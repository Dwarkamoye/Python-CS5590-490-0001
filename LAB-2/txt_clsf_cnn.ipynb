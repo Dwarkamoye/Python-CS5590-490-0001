{
  "nbformat": 4,
  "nbformat_minor": 0,
  "metadata": {
    "colab": {
      "name": "txt_clsf_cnn.ipynb",
      "version": "0.3.2",
      "provenance": [],
      "include_colab_link": true
    },
    "kernelspec": {
      "name": "python3",
      "display_name": "Python 3"
    },
    "accelerator": "GPU"
  },
  "cells": [
    {
      "cell_type": "markdown",
      "metadata": {
        "id": "view-in-github",
        "colab_type": "text"
      },
      "source": [
        "<a href=\"https://colab.research.google.com/github/Dwarkamoye/Python-CS5590-490-0001/blob/master/LAB-2/txt_clsf_cnn.ipynb\" target=\"_parent\"><img src=\"https://colab.research.google.com/assets/colab-badge.svg\" alt=\"Open In Colab\"/></a>"
      ]
    },
    {
      "cell_type": "code",
      "metadata": {
        "id": "slunz2mrVvuB",
        "colab_type": "code",
        "outputId": "a52d4d09-397f-459f-e56e-676d8a16819c",
        "colab": {
          "base_uri": "https://localhost:8080/",
          "height": 34
        }
      },
      "source": [
        "from keras.models import Sequential\n",
        "from keras import layers\n",
        "from keras.preprocessing.text import Tokenizer, one_hot\n",
        "import pandas as pd\n",
        "from keras_preprocessing.sequence import pad_sequences\n",
        "from sklearn import preprocessing\n",
        "from sklearn.model_selection import train_test_split\n",
        "from keras.layers import Dense\n",
        "from keras.layers import Dropout\n",
        "from keras.layers import Flatten\n",
        "from keras.constraints import maxnorm\n",
        "from keras.optimizers import SGD\n",
        "from keras.layers.convolutional import Conv1D\n",
        "from keras.layers.convolutional import MaxPooling1D\n",
        "import numpy as np"
      ],
      "execution_count": 0,
      "outputs": [
        {
          "output_type": "stream",
          "text": [
            "Using TensorFlow backend.\n"
          ],
          "name": "stderr"
        }
      ]
    },
    {
      "cell_type": "code",
      "metadata": {
        "id": "RDLz_-fQVxH0",
        "colab_type": "code",
        "colab": {}
      },
      "source": [
        "df = pd.read_csv('SPAM - Data.csv',encoding='latin-1')\n",
        "sentences = df['Message'].values\n",
        "y = df['Category'].values\n"
      ],
      "execution_count": 0,
      "outputs": []
    },
    {
      "cell_type": "code",
      "metadata": {
        "id": "x2VcXb2hVzJ0",
        "colab_type": "code",
        "colab": {}
      },
      "source": [
        "max_review_len= max([len(s.split()) for s in sentences])\n",
        "#tokenizing data\n",
        "tokenizer = Tokenizer(num_words=2000)\n",
        "tokenizer.fit_on_texts(sentences)\n",
        "#getting the vocabulary of data\n",
        "sentences = tokenizer.texts_to_sequences(sentences)\n",
        "padded_docs= pad_sequences(sentences,maxlen=max_review_len)"
      ],
      "execution_count": 0,
      "outputs": []
    },
    {
      "cell_type": "code",
      "metadata": {
        "id": "5bMebyDWV0_L",
        "colab_type": "code",
        "colab": {}
      },
      "source": [
        "le = preprocessing.LabelEncoder()\n",
        "y = le.fit_transform(y)"
      ],
      "execution_count": 0,
      "outputs": []
    },
    {
      "cell_type": "code",
      "metadata": {
        "id": "MACAirYQV2qr",
        "colab_type": "code",
        "colab": {}
      },
      "source": [
        "X_train, X_test, y_train, y_test = train_test_split(padded_docs, y, test_size=0.25, random_state=1000)\n",
        "vocab_size= len(tokenizer.word_index)+1\n",
        "num_classes = y_test.shape[0]"
      ],
      "execution_count": 0,
      "outputs": []
    },
    {
      "cell_type": "code",
      "metadata": {
        "id": "mjkVLHphV7ml",
        "colab_type": "code",
        "outputId": "9b5e1e67-fe77-47ae-b8d6-bdd4e317a27a",
        "colab": {
          "base_uri": "https://localhost:8080/",
          "height": 343
        }
      },
      "source": [
        "model = Sequential()\n",
        "model.add(layers.Embedding(vocab_size, 50, input_length=max_review_len))\n",
        "#model.add(layers.Flatten())\n",
        "model.add(Conv1D(32, 3, activation='relu', padding='same'))\n",
        "model.add(Dropout(0.2))\n",
        "model.add(Conv1D(64, 3, activation='relu', padding='same'))\n",
        "model.add(MaxPooling1D(pool_size=1))\n",
        "\n",
        "model.add(Conv1D(128, 3, activation='relu', padding='same'))\n",
        "model.add(Dropout(0.2))\n",
        "model.add(Conv1D(128, 3, activation='relu', padding='same'))\n",
        "model.add(MaxPooling1D(pool_size=1))\n",
        "\n",
        "\n",
        "# flattening the matrix into vector form\n",
        "model.add(Flatten())\n",
        "model.add(Dropout(0.2))\n",
        "model.add(Dense(1024, activation='relu', kernel_constraint=maxnorm(3)))\n",
        "model.add(Dropout(0.2))\n",
        "model.add(Dense(512, activation='relu', kernel_constraint=maxnorm(3)))\n",
        "model.add(Dropout(0.2))\n",
        "model.add(Dense(num_classes, activation='softmax'))\n",
        "model.compile(loss='sparse_categorical_crossentropy',optimizer='adam',metrics=['acc'])"
      ],
      "execution_count": 0,
      "outputs": [
        {
          "output_type": "stream",
          "text": [
            "WARNING: Logging before flag parsing goes to stderr.\n",
            "W0720 04:51:28.487202 139927249016704 deprecation_wrapper.py:119] From /usr/local/lib/python3.6/dist-packages/keras/backend/tensorflow_backend.py:74: The name tf.get_default_graph is deprecated. Please use tf.compat.v1.get_default_graph instead.\n",
            "\n",
            "W0720 04:51:28.539994 139927249016704 deprecation_wrapper.py:119] From /usr/local/lib/python3.6/dist-packages/keras/backend/tensorflow_backend.py:517: The name tf.placeholder is deprecated. Please use tf.compat.v1.placeholder instead.\n",
            "\n",
            "W0720 04:51:28.550397 139927249016704 deprecation_wrapper.py:119] From /usr/local/lib/python3.6/dist-packages/keras/backend/tensorflow_backend.py:4138: The name tf.random_uniform is deprecated. Please use tf.random.uniform instead.\n",
            "\n",
            "W0720 04:51:28.642632 139927249016704 deprecation_wrapper.py:119] From /usr/local/lib/python3.6/dist-packages/keras/backend/tensorflow_backend.py:133: The name tf.placeholder_with_default is deprecated. Please use tf.compat.v1.placeholder_with_default instead.\n",
            "\n",
            "W0720 04:51:28.665069 139927249016704 deprecation.py:506] From /usr/local/lib/python3.6/dist-packages/keras/backend/tensorflow_backend.py:3445: calling dropout (from tensorflow.python.ops.nn_ops) with keep_prob is deprecated and will be removed in a future version.\n",
            "Instructions for updating:\n",
            "Please use `rate` instead of `keep_prob`. Rate should be set to `rate = 1 - keep_prob`.\n",
            "W0720 04:51:28.785617 139927249016704 deprecation_wrapper.py:119] From /usr/local/lib/python3.6/dist-packages/keras/backend/tensorflow_backend.py:3976: The name tf.nn.max_pool is deprecated. Please use tf.nn.max_pool2d instead.\n",
            "\n",
            "W0720 04:51:29.113282 139927249016704 deprecation_wrapper.py:119] From /usr/local/lib/python3.6/dist-packages/keras/optimizers.py:790: The name tf.train.Optimizer is deprecated. Please use tf.compat.v1.train.Optimizer instead.\n",
            "\n",
            "W0720 04:51:29.170140 139927249016704 deprecation_wrapper.py:119] From /usr/local/lib/python3.6/dist-packages/keras/backend/tensorflow_backend.py:3341: The name tf.log is deprecated. Please use tf.math.log instead.\n",
            "\n"
          ],
          "name": "stderr"
        }
      ]
    },
    {
      "cell_type": "code",
      "metadata": {
        "id": "xQYOPZrwRNNo",
        "colab_type": "code",
        "outputId": "f73aa673-41c7-4325-c88e-ebaae3c8fa3f",
        "colab": {
          "base_uri": "https://localhost:8080/",
          "height": 292
        }
      },
      "source": [
        "model.fit(X_train,y_train, epochs=5, verbose=True, validation_data=(X_test,y_test), batch_size=64)\n"
      ],
      "execution_count": 0,
      "outputs": [
        {
          "output_type": "stream",
          "text": [
            "W0720 04:51:32.301690 139927249016704 deprecation.py:323] From /usr/local/lib/python3.6/dist-packages/tensorflow/python/ops/math_grad.py:1250: add_dispatch_support.<locals>.wrapper (from tensorflow.python.ops.array_ops) is deprecated and will be removed in a future version.\n",
            "Instructions for updating:\n",
            "Use tf.where in 2.0, which has the same broadcast rule as np.where\n"
          ],
          "name": "stderr"
        },
        {
          "output_type": "stream",
          "text": [
            "Train on 4179 samples, validate on 1393 samples\n",
            "Epoch 1/5\n",
            "4179/4179 [==============================] - 109s 26ms/step - loss: 2.4208 - acc: 0.8387 - val_loss: 1.9903 - val_acc: 0.8765\n",
            "Epoch 2/5\n",
            "4179/4179 [==============================] - 143s 34ms/step - loss: 2.2179 - acc: 0.8624 - val_loss: 1.9903 - val_acc: 0.8765\n",
            "Epoch 3/5\n",
            "4179/4179 [==============================] - 143s 34ms/step - loss: 2.2179 - acc: 0.8624 - val_loss: 1.9903 - val_acc: 0.8765\n",
            "Epoch 4/5\n",
            "4179/4179 [==============================] - 143s 34ms/step - loss: 2.2179 - acc: 0.8624 - val_loss: 1.9903 - val_acc: 0.8765\n",
            "Epoch 5/5\n",
            "4179/4179 [==============================] - 145s 35ms/step - loss: 2.2179 - acc: 0.8624 - val_loss: 1.9903 - val_acc: 0.8765\n"
          ],
          "name": "stdout"
        },
        {
          "output_type": "execute_result",
          "data": {
            "text/plain": [
              "<keras.callbacks.History at 0x7f4317ede160>"
            ]
          },
          "metadata": {
            "tags": []
          },
          "execution_count": 8
        }
      ]
    },
    {
      "cell_type": "code",
      "metadata": {
        "id": "Po5lriiaihH7",
        "colab_type": "code",
        "outputId": "65772660-f833-4760-b4cb-a5d9a0d42cb7",
        "colab": {
          "base_uri": "https://localhost:8080/",
          "height": 51
        }
      },
      "source": [
        "# Final evaluation of the model\n",
        "scores = model.evaluate(X_test, y_test, verbose=0)\n",
        "print(\"Accuracy: %.2f%%\" % (scores[1]*100))\n",
        "print(\"loss: %.2f%%\" % (scores[0]*100))\n",
        "model.save('./model' + '.h5')"
      ],
      "execution_count": 0,
      "outputs": [
        {
          "output_type": "stream",
          "text": [
            "Accuracy: 87.65%\n",
            "loss: 199.03%\n"
          ],
          "name": "stdout"
        }
      ]
    }
  ]
}