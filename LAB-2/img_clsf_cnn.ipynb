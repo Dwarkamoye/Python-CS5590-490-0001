{
  "nbformat": 4,
  "nbformat_minor": 0,
  "metadata": {
    "colab": {
      "name": "img_clsf_cnn.ipynb",
      "version": "0.3.2",
      "provenance": [],
      "collapsed_sections": [],
      "include_colab_link": true
    },
    "kernelspec": {
      "name": "python3",
      "display_name": "Python 3"
    },
    "accelerator": "GPU"
  },
  "cells": [
    {
      "cell_type": "markdown",
      "metadata": {
        "id": "view-in-github",
        "colab_type": "text"
      },
      "source": [
        "<a href=\"https://colab.research.google.com/github/Dwarkamoye/Python-CS5590-490-0001/blob/master/LAB-2/img_clsf_cnn.ipynb\" target=\"_parent\"><img src=\"https://colab.research.google.com/assets/colab-badge.svg\" alt=\"Open In Colab\"/></a>"
      ]
    },
    {
      "cell_type": "code",
      "metadata": {
        "id": "XpU1VzuLi0G5",
        "colab_type": "code",
        "colab": {}
      },
      "source": [
        "from tensorboardcolab import *"
      ],
      "execution_count": 0,
      "outputs": []
    },
    {
      "cell_type": "code",
      "metadata": {
        "id": "hd1Rv1fki5EE",
        "colab_type": "code",
        "colab": {}
      },
      "source": [
        "# Simple CNN model for CIFAR-100\n",
        "import numpy\n",
        "from keras.datasets import cifar100\n",
        "from keras.models import Sequential\n",
        "from keras.layers import Dense\n",
        "from keras.layers import Dropout\n",
        "from keras.layers import Flatten\n",
        "from keras.constraints import maxnorm\n",
        "from keras.optimizers import SGD\n",
        "from keras.layers.convolutional import Conv2D\n",
        "from keras.layers.convolutional import MaxPooling2D\n",
        "from keras.utils import np_utils\n",
        "from keras.callbacks import TensorBoard\n",
        "from keras import backend as K\n",
        "K.set_image_dim_ordering('th')"
      ],
      "execution_count": 0,
      "outputs": []
    },
    {
      "cell_type": "code",
      "metadata": {
        "id": "L3ggfMFGi50E",
        "colab_type": "code",
        "outputId": "6c1f415f-d63d-4dd3-88ba-8813ae6f4fbc",
        "colab": {
          "base_uri": "https://localhost:8080/",
          "height": 69
        }
      },
      "source": [
        "tbc=TensorBoardColab()"
      ],
      "execution_count": 0,
      "outputs": [
        {
          "output_type": "stream",
          "text": [
            "Wait for 8 seconds...\n",
            "TensorBoard link:\n",
            "https://067f36c4.ngrok.io\n"
          ],
          "name": "stdout"
        }
      ]
    },
    {
      "cell_type": "code",
      "metadata": {
        "id": "dctR74lojF2W",
        "colab_type": "code",
        "colab": {}
      },
      "source": [
        "# fix random seed for reproducibility\n",
        "seed = 7\n",
        "numpy.random.seed(seed)\n",
        "# load data\n",
        "(X_train, y_train), (X_test, y_test) = cifar100.load_data()"
      ],
      "execution_count": 0,
      "outputs": []
    },
    {
      "cell_type": "code",
      "metadata": {
        "id": "8ZIS6RV1jHmN",
        "colab_type": "code",
        "colab": {}
      },
      "source": [
        "# normalize inputs from 0-255 to 0.0-1.0\n",
        "X_train = X_train.astype('float32')\n",
        "X_test = X_test.astype('float32')\n",
        "X_train = X_train / 255.0\n",
        "X_test = X_test / 255.0"
      ],
      "execution_count": 0,
      "outputs": []
    },
    {
      "cell_type": "code",
      "metadata": {
        "id": "1xFgC3y5jJb4",
        "colab_type": "code",
        "outputId": "3befefd5-ed55-4cb2-edd1-b63c8012d530",
        "colab": {
          "base_uri": "https://localhost:8080/",
          "height": 34
        }
      },
      "source": [
        "# one hot encode outputs\n",
        "y_train = np_utils.to_categorical(y_train)\n",
        "y_test = np_utils.to_categorical(y_test)\n",
        "num_classes = y_test.shape[1]\n",
        "print(num_classes)"
      ],
      "execution_count": 0,
      "outputs": [
        {
          "output_type": "stream",
          "text": [
            "100\n"
          ],
          "name": "stdout"
        }
      ]
    },
    {
      "cell_type": "code",
      "metadata": {
        "id": "1-NssK0CjLfW",
        "colab_type": "code",
        "colab": {}
      },
      "source": [
        "# Create the model\n",
        "model = Sequential()\n",
        "\n",
        "model.add(Conv2D(64, kernel_size=(3, 3), input_shape=(3, 32, 32), activation='relu', padding='same'))\n",
        "model.add(Dropout(0.2))\n",
        "model.add(Conv2D(64, kernel_size=(3, 3), activation='relu', padding='same'))\n",
        "model.add(MaxPooling2D(pool_size=(2, 2)))\n"
      ],
      "execution_count": 0,
      "outputs": []
    },
    {
      "cell_type": "code",
      "metadata": {
        "id": "A7HWr8bjjN-L",
        "colab_type": "code",
        "colab": {}
      },
      "source": [
        "\n",
        "# flattening the matrix into vector form\n",
        "model.add(Flatten())\n",
        "model.add(Dropout(0.2))\n",
        "model.add(Dense(1024, activation='relu', kernel_constraint=maxnorm(3)))\n",
        "model.add(Dropout(0.2))\n",
        "model.add(Dense(512, activation='relu', kernel_constraint=maxnorm(3)))\n",
        "model.add(Dropout(0.2))\n",
        "model.add(Dense(num_classes, activation='softmax'))"
      ],
      "execution_count": 0,
      "outputs": []
    },
    {
      "cell_type": "code",
      "metadata": {
        "id": "VSEp8mH5jQ6o",
        "colab_type": "code",
        "colab": {}
      },
      "source": [
        "# Compile model\n",
        "epochs = 10\n",
        "lrate = 0.05\n",
        "decay = lrate/epochs\n",
        "sgd = SGD(lr=lrate, momentum=0.9, decay=decay, nesterov=False)\n",
        "model.compile(loss='categorical_crossentropy', optimizer=sgd, metrics=['accuracy'])\n",
        "tensorboard = TensorBoard(log_dir=\"logs/{}\",histogram_freq=0, write_graph=True, write_images=True)"
      ],
      "execution_count": 0,
      "outputs": []
    },
    {
      "cell_type": "code",
      "metadata": {
        "id": "37xvJdmHjS2w",
        "colab_type": "code",
        "outputId": "f2f41369-824c-4145-fec5-72c02b553518",
        "colab": {
          "base_uri": "https://localhost:8080/",
          "height": 433
        }
      },
      "source": [
        "# Fit the model\n",
        "model.fit(X_train, y_train,validation_data=(X_test, y_test), nb_epoch=epochs, batch_size=32,callbacks=[TensorBoardColabCallback(tbc)])"
      ],
      "execution_count": 0,
      "outputs": [
        {
          "output_type": "stream",
          "text": [
            "/usr/local/lib/python3.6/dist-packages/ipykernel_launcher.py:1: UserWarning: The `nb_epoch` argument in `fit` has been renamed `epochs`.\n",
            "  \"\"\"Entry point for launching an IPython kernel.\n"
          ],
          "name": "stderr"
        },
        {
          "output_type": "stream",
          "text": [
            "Train on 50000 samples, validate on 10000 samples\n",
            "Epoch 1/10\n",
            "50000/50000 [==============================] - 23s 453us/step - loss: 4.2723 - acc: 0.0494 - val_loss: 3.8109 - val_acc: 0.1157\n",
            "Epoch 2/10\n",
            "50000/50000 [==============================] - 22s 446us/step - loss: 3.5922 - acc: 0.1505 - val_loss: 3.4131 - val_acc: 0.1987\n",
            "Epoch 3/10\n",
            "50000/50000 [==============================] - 22s 449us/step - loss: 3.3178 - acc: 0.1982 - val_loss: 3.2660 - val_acc: 0.2170\n",
            "Epoch 4/10\n",
            "50000/50000 [==============================] - 22s 443us/step - loss: 3.1621 - acc: 0.2285 - val_loss: 3.1784 - val_acc: 0.2322\n",
            "Epoch 5/10\n",
            "50000/50000 [==============================] - 22s 442us/step - loss: 3.0496 - acc: 0.2480 - val_loss: 3.0997 - val_acc: 0.2525\n",
            "Epoch 6/10\n",
            "50000/50000 [==============================] - 22s 441us/step - loss: 2.9612 - acc: 0.2658 - val_loss: 3.0094 - val_acc: 0.2649\n",
            "Epoch 7/10\n",
            "50000/50000 [==============================] - 22s 443us/step - loss: 2.8812 - acc: 0.2785 - val_loss: 2.9694 - val_acc: 0.2687\n",
            "Epoch 8/10\n",
            "50000/50000 [==============================] - 22s 442us/step - loss: 2.8242 - acc: 0.2941 - val_loss: 2.9456 - val_acc: 0.2785\n",
            "Epoch 9/10\n",
            "50000/50000 [==============================] - 22s 449us/step - loss: 2.7634 - acc: 0.3029 - val_loss: 2.9192 - val_acc: 0.2840\n",
            "Epoch 10/10\n",
            "50000/50000 [==============================] - 22s 443us/step - loss: 2.7120 - acc: 0.3140 - val_loss: 2.8746 - val_acc: 0.2900\n"
          ],
          "name": "stdout"
        },
        {
          "output_type": "execute_result",
          "data": {
            "text/plain": [
              "<keras.callbacks.History at 0x7f6b7be035f8>"
            ]
          },
          "metadata": {
            "tags": []
          },
          "execution_count": 55
        }
      ]
    },
    {
      "cell_type": "code",
      "metadata": {
        "id": "QB7qezwFi9Ov",
        "colab_type": "code",
        "outputId": "22398b1b-1168-406c-aadc-8a998fec4684",
        "colab": {
          "base_uri": "https://localhost:8080/",
          "height": 52
        }
      },
      "source": [
        "\n",
        "# Final evaluation of the model\n",
        "scores = model.evaluate(X_test, y_test, verbose=0)\n",
        "print(\"Accuracy: %.2f%%\" % (scores[1]*100))\n",
        "print(\"loss: %.2f%%\" % (scores[0]*100))\n",
        "model.save('./model' + '.h5')"
      ],
      "execution_count": 0,
      "outputs": [
        {
          "output_type": "stream",
          "text": [
            "Accuracy: 30.06%\n",
            "loss: 282.29%\n"
          ],
          "name": "stdout"
        }
      ]
    }
  ]
}