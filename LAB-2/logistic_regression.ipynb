{
  "nbformat": 4,
  "nbformat_minor": 0,
  "metadata": {
    "colab": {
      "name": "logistic_regression.ipynb",
      "version": "0.3.2",
      "provenance": [],
      "include_colab_link": true
    },
    "kernelspec": {
      "name": "python3",
      "display_name": "Python 3"
    }
  },
  "cells": [
    {
      "cell_type": "markdown",
      "metadata": {
        "id": "view-in-github",
        "colab_type": "text"
      },
      "source": [
        "<a href=\"https://colab.research.google.com/github/Dwarkamoye/Python-CS5590-490-0001/blob/master/LAB-2/logistic_regression.ipynb\" target=\"_parent\"><img src=\"https://colab.research.google.com/assets/colab-badge.svg\" alt=\"Open In Colab\"/></a>"
      ]
    },
    {
      "cell_type": "code",
      "metadata": {
        "id": "i_o2hQ-76_9S",
        "colab_type": "code",
        "outputId": "1f2c7b8b-428a-4dac-b014-9c154ba75af7",
        "colab": {
          "base_uri": "https://localhost:8080/",
          "height": 34
        }
      },
      "source": [
        "from tensorboardcolab import *\n",
        "from __future__ import print_function\n",
        "import os\n",
        "from datetime import time\n",
        "\n",
        "import numpy as np\n",
        "import pandas as pd\n",
        "import matplotlib.pyplot as plt\n",
        "import keras\n",
        "from keras import metrics\n",
        "# from keras.regularizers import l1l2\n",
        "# from keras import regularizers\n",
        "from keras.models import Sequential\n",
        "from keras.layers import Dense, Dropout, Flatten, Activation\n",
        "from keras.layers import Conv2D, MaxPooling2D\n",
        "from keras.optimizers import Adam, RMSprop\n",
        "from keras.callbacks import TensorBoard, EarlyStopping, ModelCheckpoint\n",
        "from keras.utils import plot_model\n",
        "from keras.models import load_model\n",
        "from sklearn.model_selection import train_test_split"
      ],
      "execution_count": 0,
      "outputs": [
        {
          "output_type": "stream",
          "text": [
            "Using TensorFlow backend.\n"
          ],
          "name": "stderr"
        }
      ]
    },
    {
      "cell_type": "code",
      "metadata": {
        "id": "I9JBB6Zc8Jj6",
        "colab_type": "code",
        "outputId": "108ee2d9-b1d2-4c49-a5ed-e81d55fb49f9",
        "colab": {
          "base_uri": "https://localhost:8080/",
          "height": 68
        }
      },
      "source": [
        "tbc=TensorBoardColab()"
      ],
      "execution_count": 0,
      "outputs": [
        {
          "output_type": "stream",
          "text": [
            "Wait for 8 seconds...\n",
            "TensorBoard link:\n",
            "https://b1c37253.ngrok.io\n"
          ],
          "name": "stdout"
        }
      ]
    },
    {
      "cell_type": "code",
      "metadata": {
        "id": "x3PIRaEE7ELr",
        "colab_type": "code",
        "outputId": "f5fe8386-11d4-4a48-d06c-e28734f08e3f",
        "colab": {
          "base_uri": "https://localhost:8080/",
          "height": 204
        }
      },
      "source": [
        "\n",
        "df = pd.read_csv('heart.csv')\n",
        "kc_data = pd.DataFrame(df, columns=[\"age\",\"sex\",\"cp\",\"trestbps\",\"chol\",\"fbs\",\"restecg\",\"thalach\",\"exang\",\"oldpeak\",\"slope\",\"ca\",\"thal\",\"target\"])\n",
        "label_col = 'Class'\n",
        "print(kc_data.describe())"
      ],
      "execution_count": 0,
      "outputs": [
        {
          "output_type": "stream",
          "text": [
            "              age         sex          cp  ...          ca        thal      target\n",
            "count  303.000000  303.000000  303.000000  ...  303.000000  303.000000  303.000000\n",
            "mean    54.366337    0.683168    0.966997  ...    0.729373    2.313531    0.544554\n",
            "std      9.082101    0.466011    1.032052  ...    1.022606    0.612277    0.498835\n",
            "min     29.000000    0.000000    0.000000  ...    0.000000    0.000000    0.000000\n",
            "25%     47.500000    0.000000    0.000000  ...    0.000000    2.000000    0.000000\n",
            "50%     55.000000    1.000000    1.000000  ...    0.000000    2.000000    1.000000\n",
            "75%     61.000000    1.000000    2.000000  ...    1.000000    3.000000    1.000000\n",
            "max     77.000000    1.000000    3.000000  ...    4.000000    3.000000    1.000000\n",
            "\n",
            "[8 rows x 14 columns]\n"
          ],
          "name": "stdout"
        }
      ]
    },
    {
      "cell_type": "code",
      "metadata": {
        "id": "dAblx92K7GqS",
        "colab_type": "code",
        "colab": {}
      },
      "source": [
        "kc_x_train, kc_x_valid, kc_y_train, kc_y_valid = train_test_split(kc_data.iloc[:,0:13], kc_data.iloc[:,13],\n",
        "                                                    test_size=0.3, random_state=87)"
      ],
      "execution_count": 0,
      "outputs": []
    },
    {
      "cell_type": "code",
      "metadata": {
        "id": "qyEVQRuG7Iea",
        "colab_type": "code",
        "colab": {}
      },
      "source": [
        "np.random.seed(155)\n",
        "def norm_stats(df1, df2):\n",
        "    dfs = df1.append(df2)\n",
        "    minimum = np.min(dfs)\n",
        "    maximum = np.max(dfs)\n",
        "    mu = np.mean(dfs)\n",
        "    sigma = np.std(dfs)\n",
        "    return (minimum, maximum, mu, sigma)\n",
        "\n",
        "def z_score(col, stats):\n",
        "    m, M, mu, s = stats\n",
        "    df2 = pd.DataFrame()\n",
        "    for c in col.columns:\n",
        "        df2[c] = (col[c]-mu[c])/s[c]\n",
        "    return df2"
      ],
      "execution_count": 0,
      "outputs": []
    },
    {
      "cell_type": "code",
      "metadata": {
        "id": "ZXspHUnp7SnT",
        "colab_type": "code",
        "outputId": "1c02bd8e-04f5-4969-ed48-71493b83b97d",
        "colab": {
          "base_uri": "https://localhost:8080/",
          "height": 85
        }
      },
      "source": [
        "stats = norm_stats(kc_x_train, kc_x_valid)\n",
        "arr_x_train = np.array(z_score(kc_x_train, stats))\n",
        "arr_y_train = np.array(kc_y_train)\n",
        "arr_x_valid = np.array(z_score(kc_x_valid, stats))\n",
        "arr_y_valid = np.array(kc_y_valid)\n",
        "print('Training shape:', arr_x_train.shape)\n",
        "print('ddd',arr_y_train.shape)\n",
        "print('Training samples: ', arr_x_train.shape[0])\n",
        "print('Validation samples: ', arr_x_valid.shape[0])"
      ],
      "execution_count": 0,
      "outputs": [
        {
          "output_type": "stream",
          "text": [
            "Training shape: (212, 13)\n",
            "ddd (212,)\n",
            "Training samples:  212\n",
            "Validation samples:  91\n"
          ],
          "name": "stdout"
        }
      ]
    },
    {
      "cell_type": "code",
      "metadata": {
        "id": "CzI9BjP67U87",
        "colab_type": "code",
        "colab": {}
      },
      "source": [
        "def basic_model_1(x_size, y_size):\n",
        "    t_model = Sequential()\n",
        "    t_model.add(Dense(100, activation='sigmoid', input_shape=(x_size,)))\n",
        "    # t_model.compile(optimizer='rmsprop', loss='binary_crossentropy')\n",
        "    # t_model.add(Dense(100, activation=\"tanh\", input_shape=(x_size,)))\n",
        "    t_model.add(Dense(50, activation=\"sigmoid\"))\n",
        "    t_model.add(Dense(y_size))\n",
        "    t_model.compile(loss='binary_crossentropy',\n",
        "        optimizer='rmsprop',\n",
        "        metrics=[metrics.mae])\n",
        "    return(t_model)"
      ],
      "execution_count": 0,
      "outputs": []
    },
    {
      "cell_type": "code",
      "metadata": {
        "id": "fTpwsuRR7Wvr",
        "colab_type": "code",
        "colab": {}
      },
      "source": [
        "#basic_model_2 is different from basic_model_1 but doing the same task with different structure\n",
        "def basic_model_2(x_size, y_size):\n",
        "\n",
        "\n",
        "    # reg = l1l2(l1=0.01, l2=0.01)\n",
        "    t_model = Sequential()\n",
        "    t_model.add(Dense(100, activation='sigmoid', input_shape=(x_size,)))\n",
        "    t_model.add(Dropout(0.1))\n",
        "    t_model.add(Dense(50, activation='sigmoid'))\n",
        "    t_model.add(Dense(20, activation='sigmoid'))\n",
        "    t_model.add(Dense(y_size))\n",
        "    keras.optimizers.Adam(lr=0.001, beta_1=0.9, beta_2=0.999, epsilon=None, decay=0.0, amsgrad=False)\n",
        "    optimizers = ['rmsprop', 'adam']\n",
        "    t_model.compile(loss='binary_crossentropy',\n",
        "        optimizer=Adam(),\n",
        "        metrics=[metrics.mae])\n",
        "    return(t_model)"
      ],
      "execution_count": 0,
      "outputs": []
    },
    {
      "cell_type": "code",
      "metadata": {
        "id": "zTa434EO7ZuK",
        "colab_type": "code",
        "outputId": "0f48e5a1-3d9a-4e43-f8a6-067c720c1281",
        "colab": {
          "base_uri": "https://localhost:8080/",
          "height": 1000
        }
      },
      "source": [
        "model = basic_model_2(arr_x_train.shape[1], 1)\n",
        "\n",
        "model.summary()\n",
        "epochs = 20\n",
        "batch_size =32\n",
        "\n",
        "history = model.fit(arr_x_train, arr_y_train,\n",
        "    batch_size=batch_size,\n",
        "    epochs=epochs,\n",
        "    shuffle=True,\n",
        "    verbose=2, # Change it to 2, if wished to observe execution\n",
        "    validation_data=(arr_x_valid, arr_y_valid),callbacks=[TensorBoardColabCallback(tbc)])\n"
      ],
      "execution_count": 0,
      "outputs": [
        {
          "output_type": "stream",
          "text": [
            "_________________________________________________________________\n",
            "Layer (type)                 Output Shape              Param #   \n",
            "=================================================================\n",
            "dense_9 (Dense)              (None, 100)               1400      \n",
            "_________________________________________________________________\n",
            "dropout_3 (Dropout)          (None, 100)               0         \n",
            "_________________________________________________________________\n",
            "dense_10 (Dense)             (None, 50)                5050      \n",
            "_________________________________________________________________\n",
            "dense_11 (Dense)             (None, 20)                1020      \n",
            "_________________________________________________________________\n",
            "dense_12 (Dense)             (None, 1)                 21        \n",
            "=================================================================\n",
            "Total params: 7,491\n",
            "Trainable params: 7,491\n",
            "Non-trainable params: 0\n",
            "_________________________________________________________________\n",
            "Train on 212 samples, validate on 91 samples\n",
            "Epoch 1/20\n",
            " - 0s - loss: 0.6977 - mean_absolute_error: 0.4992 - val_loss: 0.6854 - val_mean_absolute_error: 0.4958\n",
            "Epoch 2/20\n",
            " - 0s - loss: 0.6792 - mean_absolute_error: 0.4915 - val_loss: 0.6526 - val_mean_absolute_error: 0.4771\n",
            "Epoch 3/20\n",
            " - 0s - loss: 0.6538 - mean_absolute_error: 0.4779 - val_loss: 0.6463 - val_mean_absolute_error: 0.4752\n",
            "Epoch 4/20\n",
            " - 0s - loss: 0.6415 - mean_absolute_error: 0.4718 - val_loss: 0.6214 - val_mean_absolute_error: 0.4607\n",
            "Epoch 5/20\n",
            " - 0s - loss: 0.6162 - mean_absolute_error: 0.4576 - val_loss: 0.6088 - val_mean_absolute_error: 0.4532\n",
            "Epoch 6/20\n",
            " - 0s - loss: 0.5919 - mean_absolute_error: 0.4418 - val_loss: 0.5705 - val_mean_absolute_error: 0.4269\n",
            "Epoch 7/20\n",
            " - 0s - loss: 0.5582 - mean_absolute_error: 0.4195 - val_loss: 0.5552 - val_mean_absolute_error: 0.4182\n",
            "Epoch 8/20\n",
            " - 0s - loss: 0.5322 - mean_absolute_error: 0.4026 - val_loss: 0.5469 - val_mean_absolute_error: 0.4071\n",
            "Epoch 9/20\n",
            " - 0s - loss: 0.4955 - mean_absolute_error: 0.3753 - val_loss: 0.4863 - val_mean_absolute_error: 0.3635\n",
            "Epoch 10/20\n",
            " - 0s - loss: 0.4585 - mean_absolute_error: 0.3454 - val_loss: 0.4685 - val_mean_absolute_error: 0.3451\n",
            "Epoch 11/20\n",
            " - 0s - loss: 0.4067 - mean_absolute_error: 0.3078 - val_loss: 0.4433 - val_mean_absolute_error: 0.3169\n",
            "Epoch 12/20\n",
            " - 0s - loss: 0.3820 - mean_absolute_error: 0.2858 - val_loss: 0.4469 - val_mean_absolute_error: 0.3025\n",
            "Epoch 13/20\n",
            " - 0s - loss: 0.3616 - mean_absolute_error: 0.2795 - val_loss: 0.5757 - val_mean_absolute_error: 0.2931\n",
            "Epoch 14/20\n",
            " - 0s - loss: 0.4045 - mean_absolute_error: 0.2669 - val_loss: 0.4549 - val_mean_absolute_error: 0.2895\n",
            "Epoch 15/20\n",
            " - 0s - loss: 0.4008 - mean_absolute_error: 0.2677 - val_loss: 0.7457 - val_mean_absolute_error: 0.3009\n",
            "Epoch 16/20\n",
            " - 0s - loss: 0.3573 - mean_absolute_error: 0.2956 - val_loss: 1.0883 - val_mean_absolute_error: 0.3444\n",
            "Epoch 17/20\n",
            " - 0s - loss: 0.4273 - mean_absolute_error: 0.2873 - val_loss: 0.5818 - val_mean_absolute_error: 0.2941\n",
            "Epoch 18/20\n",
            " - 0s - loss: 0.3599 - mean_absolute_error: 0.2799 - val_loss: 0.7424 - val_mean_absolute_error: 0.3014\n",
            "Epoch 19/20\n",
            " - 0s - loss: 0.7652 - mean_absolute_error: 0.3067 - val_loss: 1.4644 - val_mean_absolute_error: 0.4274\n",
            "Epoch 20/20\n",
            " - 0s - loss: 2.0177 - mean_absolute_error: 0.4914 - val_loss: 2.4504 - val_mean_absolute_error: 0.5707\n"
          ],
          "name": "stdout"
        }
      ]
    },
    {
      "cell_type": "code",
      "metadata": {
        "id": "oUPJVYMo7g8l",
        "colab_type": "code",
        "outputId": "f105a2bf-ef78-4030-9cdc-a15ebb26df27",
        "colab": {
          "base_uri": "https://localhost:8080/",
          "height": 51
        }
      },
      "source": [
        "train_score = model.evaluate(arr_x_train, arr_y_train, verbose=0)\n",
        "valid_score = model.evaluate(arr_x_valid, arr_y_valid, verbose=0)\n",
        "\n",
        "print('Train MAE: ', round(train_score[1], 4), ', Train Loss: ', round(train_score[0], 4))\n",
        "print('Val MAE: ', round(valid_score[1], 4), ', Val Loss: ', round(valid_score[0], 4))"
      ],
      "execution_count": 0,
      "outputs": [
        {
          "output_type": "stream",
          "text": [
            "Train MAE:  0.5689 , Train Loss:  2.5651\n",
            "Val MAE:  0.5707 , Val Loss:  2.4504\n"
          ],
          "name": "stdout"
        }
      ]
    },
    {
      "cell_type": "code",
      "metadata": {
        "id": "q3Rf_rCp7j4l",
        "colab_type": "code",
        "colab": {}
      },
      "source": [
        "keras_callbacks = [\n",
        "    ModelCheckpoint('/tmp/keras_checkpoints/model.{epoch:02d}-{val_loss:.2f}.hdf5', monitor='val_loss', save_best_only=True, verbose=2),\n",
        "    ModelCheckpoint('/tmp/keras_checkpoints/model.{epoch:02d}.hdf5', monitor='val_loss', save_best_only=True, verbose=0),\n",
        "    TensorBoard(log_dir='./model_3', histogram_freq=0, write_graph=True, write_images=True, embeddings_freq=0, embeddings_layer_names=None, embeddings_metadata=None),\n",
        "    EarlyStopping(monitor='val_mean_absolute_error', patience=20, verbose=0)\n",
        "]"
      ],
      "execution_count": 0,
      "outputs": []
    },
    {
      "cell_type": "code",
      "metadata": {
        "id": "5oNaU6_h7l1t",
        "colab_type": "code",
        "colab": {}
      },
      "source": [
        "def plot_hist(h, xsize=6, ysize=10):\n",
        "    # Prepare plotting\n",
        "    fig_size = plt.rcParams[\"figure.figsize\"]\n",
        "    plt.rcParams[\"figure.figsize\"] = [xsize, ysize]\n",
        "    fig, axes = plt.subplots(nrows=4, ncols=4, sharex=True)\n",
        "\n",
        "    # summarize history for MAE\n",
        "    plt.subplot(211)\n",
        "    plt.plot(h['mean_absolute_error'])\n",
        "    plt.plot(h['val_mean_absolute_error'])\n",
        "    plt.title('Training vs Validation MAE')\n",
        "    plt.ylabel('MAE')\n",
        "    plt.xlabel('Epoch')\n",
        "    plt.legend(['Train', 'Validation'], loc='upper left')\n",
        "\n",
        "    # summarize history for loss\n",
        "    plt.subplot(212)\n",
        "    plt.plot(h['loss'])\n",
        "    plt.plot(h['val_loss'])\n",
        "    plt.title('Training vs Validation Loss')\n",
        "    plt.ylabel('Loss')\n",
        "    plt.xlabel('Epoch')\n",
        "    plt.legend(['Train', 'Validation'], loc='upper left')\n",
        "\n",
        "    # Plot it all in IPython (non-interactive)\n",
        "    plt.draw()\n",
        "    plt.show()\n",
        "\n",
        "    return"
      ],
      "execution_count": 0,
      "outputs": []
    },
    {
      "cell_type": "code",
      "metadata": {
        "id": "Ai7JeVXV7ntd",
        "colab_type": "code",
        "outputId": "4ad823be-ed8d-462c-fa8d-dd1cb1bdb0ae",
        "colab": {
          "base_uri": "https://localhost:8080/",
          "height": 764
        }
      },
      "source": [
        "plot_hist(history.history, xsize=8, ysize=12)\n",
        "score = model.evaluate(arr_x_valid,arr_y_valid)\n",
        "print('test accuracy',score[1])"
      ],
      "execution_count": 0,
      "outputs": [
        {
          "output_type": "display_data",
          "data": {
            "image/png": "[encoded data removed]",
            "text/plain": [
              "<Figure size 576x864 with 2 Axes>"
            ]
          },
          "metadata": {
            "tags": []
          }
        },
        {
          "output_type": "stream",
          "text": [
            "91/91 [==============================] - 0s 236us/step\n",
            "test accuracy 0.3072091573542291\n"
          ],
          "name": "stdout"
        }
      ]
    },
    {
      "cell_type": "code",
      "metadata": {
        "id": "kZgjmJSj7rTV",
        "colab_type": "code",
        "colab": {}
      },
      "source": [
        "# Create hyperparameter space\n",
        "epochs = [5, 10]\n",
        "batches = [5, 10, 100]\n",
        "optimizers = ['rmsprop', 'adam']\n",
        "\n",
        "# Create hyperparameter options\n",
        "hyperparameters = dict(optimizer=optimizers, epochs=epochs, batch_size=batches)"
      ],
      "execution_count": 0,
      "outputs": []
    }
  ]
}