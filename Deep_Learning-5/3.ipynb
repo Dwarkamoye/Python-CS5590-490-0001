{
  "nbformat": 4,
  "nbformat_minor": 0,
  "metadata": {
    "colab": {
      "name": "3.ipynb",
      "version": "0.3.2",
      "provenance": [],
      "include_colab_link": true
    },
    "kernelspec": {
      "name": "python3",
      "display_name": "Python 3"
    }
  },
  "cells": [
    {
      "cell_type": "markdown",
      "metadata": {
        "id": "view-in-github",
        "colab_type": "text"
      },
      "source": [
        "<a href=\"https://colab.research.google.com/github/Dwarkamoye/Python-CS5590-490-0001/blob/master/Deep_Learning-5/3.ipynb\" target=\"_parent\"><img src=\"https://colab.research.google.com/assets/colab-badge.svg\" alt=\"Open In Colab\"/></a>"
      ]
    },
    {
      "cell_type": "code",
      "metadata": {
        "id": "tuDnGECiNqq2",
        "colab_type": "code",
        "colab": {
          "base_uri": "https://localhost:8080/",
          "height": 68
        },
        "outputId": "7d2b58df-6dbb-4980-864e-b2017aac8ac6"
      },
      "source": [
        "\n",
        "from tensorboardcolab  import *\n",
        "tbc=TensorBoardColab()"
      ],
      "execution_count": 5,
      "outputs": [
        {
          "output_type": "stream",
          "text": [
            "Wait for 8 seconds...\n",
            "TensorBoard link:\n",
            "https://cc9b5b80.ngrok.io\n"
          ],
          "name": "stdout"
        }
      ]
    },
    {
      "cell_type": "code",
      "metadata": {
        "id": "FAPI8Ds1NGQn",
        "colab_type": "code",
        "colab": {
          "base_uri": "https://localhost:8080/",
          "height": 238
        },
        "outputId": "a37a7ee2-291c-456b-e7d2-ffa1c49b3417"
      },
      "source": [
        "import pandas as pd # data processing, CSV file I/O (e.g. pd.read_csv)\n",
        "from keras.preprocessing.text import Tokenizer\n",
        "from keras.preprocessing.sequence import pad_sequences\n",
        "from keras.models import Sequential\n",
        "from keras.layers import Dense, Embedding, LSTM, SpatialDropout1D\n",
        "from matplotlib import pyplot\n",
        "from sklearn.model_selection import train_test_split\n",
        "from keras.utils.np_utils import to_categorical\n",
        "import re\n",
        "\n",
        "from sklearn.preprocessing import LabelEncoder\n",
        "\n",
        "data = pd.read_csv('spam.csv',encoding=\"ISO-8859-1\")\n",
        "# Keeping only the neccessary columns\n",
        "data = data[['v2','v1']]\n",
        "\n",
        "data['v2'] = data['v2'].apply(lambda x: x.lower())\n",
        "data['v2'] = data['v2'].apply((lambda x: re.sub('[^a-zA-z0-9\\s]', '', x)))\n",
        "\n",
        "for idx, row in data.iterrows():\n",
        "    row[0] = row[0].replace('rt', ' ')\n",
        "\n",
        "max_fatures = 2000\n",
        "tokenizer = Tokenizer(num_words=max_fatures, split=' ')\n",
        "tokenizer.fit_on_texts(data['v1'].values)\n",
        "X = tokenizer.texts_to_sequences(data['v1'].values)\n",
        "\n",
        "X = pad_sequences(X)\n",
        "\n",
        "embed_dim = 128\n",
        "lstm_out = 196\n",
        "def createmodel():\n",
        "    model = Sequential()\n",
        "    model.add(Embedding(max_fatures, embed_dim,input_length = X.shape[1]))\n",
        "    model.add(LSTM(lstm_out, dropout=0.2, recurrent_dropout=0.2))\n",
        "    model.add(Dense(1,activation='sigmoid'))\n",
        "    model.compile(loss = 'binary_crossentropy', optimizer='adam',metrics = ['accuracy'])\n",
        "    return model\n",
        "# print(model.summary())\n",
        "\n",
        "labelencoder = LabelEncoder()\n",
        "integer_encoded = labelencoder.fit_transform(data['v2'])\n",
        "#y = to_categorical(integer_encoded)\n",
        "y = integer_encoded\n",
        "X_train, X_test, Y_train, Y_test = train_test_split(X,y, test_size = 0.33, random_state = 42)\n",
        "\n",
        "batch_size = 32\n",
        "model = createmodel()\n",
        "model.fit(X_train, Y_train, validation_data=(X_test, Y_test), epochs = 5, batch_size=batch_size, verbose = 2,callbacks=[TensorBoardColabCallback(tbc)])\n",
        "score,acc = model.evaluate(X_test,Y_test,verbose=2,batch_size=batch_size)\n",
        "print(score)\n",
        "print(acc)\n",
        "#print(model.metrics_names)\n"
      ],
      "execution_count": 13,
      "outputs": [
        {
          "output_type": "stream",
          "text": [
            "Train on 3733 samples, validate on 1839 samples\n",
            "Epoch 1/5\n",
            " - 6s - loss: -2.2192e+04 - acc: 2.6788e-04 - val_loss: -4.1473e+04 - val_acc: 0.0000e+00\n",
            "Epoch 2/5\n",
            " - 3s - loss: -4.1002e+04 - acc: 2.6788e-04 - val_loss: -4.1473e+04 - val_acc: 0.0000e+00\n",
            "Epoch 3/5\n",
            " - 3s - loss: -4.1002e+04 - acc: 2.6788e-04 - val_loss: -4.1473e+04 - val_acc: 0.0000e+00\n",
            "Epoch 4/5\n",
            " - 3s - loss: -4.1002e+04 - acc: 2.6788e-04 - val_loss: -4.1473e+04 - val_acc: 0.0000e+00\n",
            "Epoch 5/5\n",
            " - 3s - loss: -4.1002e+04 - acc: 2.6788e-04 - val_loss: -4.1473e+04 - val_acc: 0.0000e+00\n",
            "-41473.35474442632\n",
            "0.0\n"
          ],
          "name": "stdout"
        }
      ]
    }
  ]
}