{
  "nbformat": 4,
  "nbformat_minor": 0,
  "metadata": {
    "colab": {
      "name": "linear_regression.ipynb",
      "version": "0.3.2",
      "provenance": [],
      "include_colab_link": true
    },
    "kernelspec": {
      "name": "python3",
      "display_name": "Python 3"
    }
  },
  "cells": [
    {
      "cell_type": "markdown",
      "metadata": {
        "id": "view-in-github",
        "colab_type": "text"
      },
      "source": [
        "<a href=\"https://colab.research.google.com/github/Dwarkamoye/Python-CS5590-490-0001/blob/master/LAB-2/linear_regression.ipynb\" target=\"_parent\"><img src=\"https://colab.research.google.com/assets/colab-badge.svg\" alt=\"Open In Colab\"/></a>"
      ]
    },
    {
      "cell_type": "code",
      "metadata": {
        "id": "s9HyqzoTx9vS",
        "colab_type": "code",
        "outputId": "466f2f51-c7bb-4a07-9a00-e39cfc226914",
        "colab": {
          "base_uri": "https://localhost:8080/",
          "height": 34
        }
      },
      "source": [
        "from tensorboardcolab import *\n",
        "from __future__ import print_function\n",
        "import os\n",
        "from datetime import time\n",
        "\n",
        "import numpy as np\n",
        "import pandas as pd\n",
        "import matplotlib.pyplot as plt\n",
        "import keras\n",
        "from keras import metrics\n",
        "from keras import regularizers\n",
        "from keras.models import Sequential\n",
        "from keras.layers import Dense, Dropout, Flatten, Activation\n",
        "from keras.layers import Conv2D, MaxPooling2D\n",
        "from keras.optimizers import Adam, RMSprop\n",
        "from keras.callbacks import TensorBoard, EarlyStopping, ModelCheckpoint\n",
        "from keras.utils import plot_model\n",
        "from keras.models import load_model\n",
        "from sklearn.model_selection import train_test_split"
      ],
      "execution_count": 0,
      "outputs": [
        {
          "output_type": "stream",
          "text": [
            "Using TensorFlow backend.\n"
          ],
          "name": "stderr"
        }
      ]
    },
    {
      "cell_type": "code",
      "metadata": {
        "id": "emnBSJWh1-dl",
        "colab_type": "code",
        "outputId": "033d24cd-d202-4b16-b0ed-e46d3e6551f6",
        "colab": {
          "base_uri": "https://localhost:8080/",
          "height": 68
        }
      },
      "source": [
        "tbc=TensorBoardColab()"
      ],
      "execution_count": 0,
      "outputs": [
        {
          "output_type": "stream",
          "text": [
            "Wait for 8 seconds...\n",
            "TensorBoard link:\n",
            "https://b1c37253.ngrok.io\n"
          ],
          "name": "stdout"
        }
      ]
    },
    {
      "cell_type": "code",
      "metadata": {
        "id": "3Q6d115qyAmf",
        "colab_type": "code",
        "colab": {}
      },
      "source": [
        "df = pd.read_csv('Boston.csv')\n",
        "kc_data = pd.DataFrame(df, columns=[\"crim\",\"zn\",\"indus\",\"chas\",\"nox\",\"rm\",\"age\",\"dis\",\"rad\",\"tax\",\"ptratio\",\"lstat\",\"medv\"\n",
        "])\n",
        "label_col = 'medv'\n",
        "#print(kc_data.describe())"
      ],
      "execution_count": 0,
      "outputs": []
    },
    {
      "cell_type": "code",
      "metadata": {
        "id": "e_SYojkByCKa",
        "colab_type": "code",
        "colab": {}
      },
      "source": [
        "kc_x_train, kc_x_valid, kc_y_train, kc_y_valid = train_test_split(kc_data.iloc[:,0:12], kc_data.iloc[:,12],\n",
        "                                                    test_size=0.3, random_state=87)"
      ],
      "execution_count": 0,
      "outputs": []
    },
    {
      "cell_type": "code",
      "metadata": {
        "id": "Tc8Lr3GcyEzz",
        "colab_type": "code",
        "colab": {}
      },
      "source": [
        "np.random.seed(155)\n",
        "def norm_stats(df1, df2):\n",
        "    dfs = df1.append(df2)\n",
        "    minimum = np.min(dfs)\n",
        "    maximum = np.max(dfs)\n",
        "    mu = np.mean(dfs)\n",
        "    sigma = np.std(dfs)\n",
        "    return (minimum, maximum, mu, sigma)\n",
        "\n",
        "def z_score(col, stats):\n",
        "    m, M, mu, s = stats\n",
        "    df2 = pd.DataFrame()\n",
        "    for c in col.columns:\n",
        "        df2[c] = (col[c]-mu[c])/s[c]\n",
        "    return df2"
      ],
      "execution_count": 0,
      "outputs": []
    },
    {
      "cell_type": "code",
      "metadata": {
        "id": "AJ5AJpPTyHDb",
        "colab_type": "code",
        "outputId": "2689ef1b-732e-4196-cc28-dbe3f32f9508",
        "colab": {
          "base_uri": "https://localhost:8080/",
          "height": 85
        }
      },
      "source": [
        "stats = norm_stats(kc_x_train, kc_x_valid)\n",
        "arr_x_train = np.array(z_score(kc_x_train, stats))\n",
        "arr_y_train = np.array(kc_y_train)\n",
        "arr_x_valid = np.array(z_score(kc_x_valid, stats))\n",
        "arr_y_valid = np.array(kc_y_valid)\n",
        "print('Training shape:', arr_x_train.shape)\n",
        "print('ddd',arr_y_train.shape)\n",
        "print('Training samples: ', arr_x_train.shape[0])\n",
        "print('Validation samples: ', arr_x_valid.shape[0])"
      ],
      "execution_count": 0,
      "outputs": [
        {
          "output_type": "stream",
          "text": [
            "Training shape: (354, 12)\n",
            "ddd (354,)\n",
            "Training samples:  354\n",
            "Validation samples:  152\n"
          ],
          "name": "stdout"
        }
      ]
    },
    {
      "cell_type": "code",
      "metadata": {
        "id": "g0E68A3AyKLK",
        "colab_type": "code",
        "colab": {}
      },
      "source": [
        "#basic_model_1 created model with some parameters\n",
        "def basic_model_1(x_size, y_size):\n",
        "    t_model = Sequential()\n",
        "    t_model.add(Dense(100, activation=\"tanh\", input_shape=(x_size,)))\n",
        "    t_model.add(Dense(50, activation=\"relu\"))\n",
        "    t_model.add(Dense(y_size))\n",
        "    t_model.compile(loss='mean_squared_error',\n",
        "        optimizer=Adam(),\n",
        "        metrics=[metrics.mae])\n",
        "    return(t_model)"
      ],
      "execution_count": 0,
      "outputs": []
    },
    {
      "cell_type": "code",
      "metadata": {
        "id": "8i7pRXxxyLcb",
        "colab_type": "code",
        "colab": {}
      },
      "source": [
        "#basic_model_2 is different from basic_model_1 but doing the same task with different structure\n",
        "def basic_model_2(x_size, y_size):\n",
        "    t_model = Sequential()\n",
        "    t_model.add(Dense(100, activation=\"tanh\", input_shape=(x_size,)))\n",
        "    t_model.add(Dropout(0.1))\n",
        "    t_model.add(Dense(50, activation=\"relu\"))\n",
        "    t_model.add(Dense(20, activation=\"relu\"))\n",
        "    t_model.add(Dense(y_size))\n",
        "    keras.optimizers.Adam(lr=0.001, beta_1=0.9, beta_2=0.999, epsilon=None, decay=0.0, amsgrad=False)\n",
        "    t_model.compile(loss='mean_squared_error',\n",
        "        optimizer=Adam(),\n",
        "        metrics=[metrics.mae])\n",
        "    tensorboard = TensorBoard(log_dir=\"logs/final1\",histogram_freq=0, write_graph=True, write_images=True)\n",
        "    return(t_model)"
      ],
      "execution_count": 0,
      "outputs": []
    },
    {
      "cell_type": "code",
      "metadata": {
        "id": "lPovNPL3yRjj",
        "colab_type": "code",
        "outputId": "fafd7bd3-55c8-4bbb-962a-ac10860c08ba",
        "colab": {
          "base_uri": "https://localhost:8080/",
          "height": 1000
        }
      },
      "source": [
        "model = basic_model_2(arr_x_train.shape[1], 1)\n",
        "\n",
        "model.summary()\n",
        "epochs = 20\n",
        "batch_size =32\n",
        "history = model.fit(arr_x_train, arr_y_train,\n",
        "    batch_size=batch_size,\n",
        "    epochs=epochs,\n",
        "    shuffle=True,\n",
        "    verbose=2, # Change it to 2, if wished to observe execution\n",
        "    validation_data=(arr_x_valid, arr_y_valid),callbacks=[TensorBoardColabCallback(tbc)])\n"
      ],
      "execution_count": 0,
      "outputs": [
        {
          "output_type": "stream",
          "text": [
            "WARNING: Logging before flag parsing goes to stderr.\n",
            "W0719 15:47:14.938543 140221285611392 deprecation_wrapper.py:119] From /usr/local/lib/python3.6/dist-packages/keras/backend/tensorflow_backend.py:74: The name tf.get_default_graph is deprecated. Please use tf.compat.v1.get_default_graph instead.\n",
            "\n"
          ],
          "name": "stderr"
        },
        {
          "output_type": "stream",
          "text": [
            "[-0.41348033 -0.48772236 -1.2660231  -0.27259857 -0.57613394 -0.18753407\n",
            "  0.00800464 -0.24497801 -0.75292215 -1.27835435 -0.30309415  0.06965751]\n",
            "[-0.39593474  0.04877224 -0.47665354 -0.27259857 -0.26515405 -0.9312059\n",
            "  1.11749449  1.08719646 -0.52300145 -0.57751897 -1.50523663  2.42177359]\n"
          ],
          "name": "stdout"
        },
        {
          "output_type": "stream",
          "text": [
            "W0719 15:47:14.960170 140221285611392 deprecation_wrapper.py:119] From /usr/local/lib/python3.6/dist-packages/keras/backend/tensorflow_backend.py:517: The name tf.placeholder is deprecated. Please use tf.compat.v1.placeholder instead.\n",
            "\n",
            "W0719 15:47:14.963876 140221285611392 deprecation_wrapper.py:119] From /usr/local/lib/python3.6/dist-packages/keras/backend/tensorflow_backend.py:4138: The name tf.random_uniform is deprecated. Please use tf.random.uniform instead.\n",
            "\n",
            "W0719 15:47:14.985656 140221285611392 deprecation_wrapper.py:119] From /usr/local/lib/python3.6/dist-packages/keras/backend/tensorflow_backend.py:133: The name tf.placeholder_with_default is deprecated. Please use tf.compat.v1.placeholder_with_default instead.\n",
            "\n",
            "W0719 15:47:14.997551 140221285611392 deprecation.py:506] From /usr/local/lib/python3.6/dist-packages/keras/backend/tensorflow_backend.py:3445: calling dropout (from tensorflow.python.ops.nn_ops) with keep_prob is deprecated and will be removed in a future version.\n",
            "Instructions for updating:\n",
            "Please use `rate` instead of `keep_prob`. Rate should be set to `rate = 1 - keep_prob`.\n",
            "W0719 15:47:15.095822 140221285611392 deprecation_wrapper.py:119] From /usr/local/lib/python3.6/dist-packages/keras/optimizers.py:790: The name tf.train.Optimizer is deprecated. Please use tf.compat.v1.train.Optimizer instead.\n",
            "\n"
          ],
          "name": "stderr"
        },
        {
          "output_type": "stream",
          "text": [
            "_________________________________________________________________\n",
            "Layer (type)                 Output Shape              Param #   \n",
            "=================================================================\n",
            "dense_1 (Dense)              (None, 100)               1300      \n",
            "_________________________________________________________________\n",
            "dropout_1 (Dropout)          (None, 100)               0         \n",
            "_________________________________________________________________\n",
            "dense_2 (Dense)              (None, 50)                5050      \n",
            "_________________________________________________________________\n",
            "dense_3 (Dense)              (None, 20)                1020      \n",
            "_________________________________________________________________\n",
            "dense_4 (Dense)              (None, 1)                 21        \n",
            "=================================================================\n",
            "Total params: 7,391\n",
            "Trainable params: 7,391\n",
            "Non-trainable params: 0\n",
            "_________________________________________________________________\n"
          ],
          "name": "stdout"
        },
        {
          "output_type": "stream",
          "text": [
            "W0719 15:47:15.989384 140221285611392 deprecation_wrapper.py:119] From /usr/local/lib/python3.6/dist-packages/keras/backend/tensorflow_backend.py:986: The name tf.assign_add is deprecated. Please use tf.compat.v1.assign_add instead.\n",
            "\n",
            "W0719 15:47:16.218097 140221285611392 deprecation_wrapper.py:119] From /usr/local/lib/python3.6/dist-packages/tensorboardcolab/core.py:49: The name tf.summary.FileWriter is deprecated. Please use tf.compat.v1.summary.FileWriter instead.\n",
            "\n",
            "W0719 15:47:16.368262 140221285611392 deprecation_wrapper.py:119] From /usr/local/lib/python3.6/dist-packages/keras/callbacks.py:850: The name tf.summary.merge_all is deprecated. Please use tf.compat.v1.summary.merge_all instead.\n",
            "\n"
          ],
          "name": "stderr"
        },
        {
          "output_type": "stream",
          "text": [
            "Train on 354 samples, validate on 152 samples\n",
            "Epoch 1/20\n",
            " - 0s - loss: 566.6062 - mean_absolute_error: 22.2027 - val_loss: 608.3525 - val_mean_absolute_error: 22.6805\n",
            "Epoch 2/20\n",
            " - 0s - loss: 528.7477 - mean_absolute_error: 21.3770 - val_loss: 565.6583 - val_mean_absolute_error: 21.8198\n",
            "Epoch 3/20\n",
            " - 0s - loss: 477.7568 - mean_absolute_error: 20.2430 - val_loss: 494.6309 - val_mean_absolute_error: 20.3106\n",
            "Epoch 4/20\n",
            " - 0s - loss: 389.5493 - mean_absolute_error: 18.0931 - val_loss: 379.5554 - val_mean_absolute_error: 17.5483\n",
            "Epoch 5/20\n",
            " - 0s - loss: 273.3565 - mean_absolute_error: 14.5424 - val_loss: 235.7865 - val_mean_absolute_error: 12.8868\n",
            "Epoch 6/20\n",
            " - 0s - loss: 165.5180 - mean_absolute_error: 10.0015 - val_loss: 141.1532 - val_mean_absolute_error: 9.4015\n",
            "Epoch 7/20\n",
            " - 0s - loss: 115.7906 - mean_absolute_error: 8.2733 - val_loss: 107.4078 - val_mean_absolute_error: 7.9671\n",
            "Epoch 8/20\n",
            " - 0s - loss: 89.7745 - mean_absolute_error: 7.2452 - val_loss: 89.6832 - val_mean_absolute_error: 7.2248\n",
            "Epoch 9/20\n",
            " - 0s - loss: 73.4554 - mean_absolute_error: 6.5152 - val_loss: 74.3246 - val_mean_absolute_error: 6.5749\n",
            "Epoch 10/20\n",
            " - 0s - loss: 58.3573 - mean_absolute_error: 5.8515 - val_loss: 60.0884 - val_mean_absolute_error: 5.9169\n",
            "Epoch 11/20\n",
            " - 0s - loss: 49.3852 - mean_absolute_error: 5.2736 - val_loss: 51.3621 - val_mean_absolute_error: 5.3547\n",
            "Epoch 12/20\n",
            " - 0s - loss: 41.7682 - mean_absolute_error: 4.8163 - val_loss: 46.5083 - val_mean_absolute_error: 4.9729\n",
            "Epoch 13/20\n",
            " - 0s - loss: 37.3122 - mean_absolute_error: 4.5228 - val_loss: 42.6594 - val_mean_absolute_error: 4.7624\n",
            "Epoch 14/20\n",
            " - 0s - loss: 35.3268 - mean_absolute_error: 4.3939 - val_loss: 39.7792 - val_mean_absolute_error: 4.6138\n",
            "Epoch 15/20\n",
            " - 0s - loss: 31.4153 - mean_absolute_error: 4.2929 - val_loss: 38.1173 - val_mean_absolute_error: 4.6777\n",
            "Epoch 16/20\n",
            " - 0s - loss: 28.9346 - mean_absolute_error: 4.0717 - val_loss: 35.5480 - val_mean_absolute_error: 4.4099\n",
            "Epoch 17/20\n",
            " - 0s - loss: 27.7660 - mean_absolute_error: 3.9679 - val_loss: 33.9837 - val_mean_absolute_error: 4.2139\n",
            "Epoch 18/20\n",
            " - 0s - loss: 24.5836 - mean_absolute_error: 3.6599 - val_loss: 32.5110 - val_mean_absolute_error: 4.1454\n",
            "Epoch 19/20\n",
            " - 0s - loss: 25.2716 - mean_absolute_error: 3.7634 - val_loss: 31.2203 - val_mean_absolute_error: 4.0665\n",
            "Epoch 20/20\n",
            " - 0s - loss: 22.7181 - mean_absolute_error: 3.5583 - val_loss: 30.1117 - val_mean_absolute_error: 3.9189\n"
          ],
          "name": "stdout"
        }
      ]
    },
    {
      "cell_type": "code",
      "metadata": {
        "id": "s8VcNvdLyU_b",
        "colab_type": "code",
        "outputId": "4b59d1ac-c82e-4bef-a9f1-58b32bb847f1",
        "colab": {
          "base_uri": "https://localhost:8080/",
          "height": 51
        }
      },
      "source": [
        "train_score = model.evaluate(arr_x_train, arr_y_train, verbose=0)\n",
        "valid_score = model.evaluate(arr_x_valid, arr_y_valid, verbose=0)\n",
        "\n",
        "print('Train MAE: ', round(train_score[1], 4), ', Train Loss: ', round(train_score[0], 4))\n",
        "print('Val MAE: ', round(valid_score[1], 4), ', Val Loss: ', round(valid_score[0], 4))"
      ],
      "execution_count": 0,
      "outputs": [
        {
          "output_type": "stream",
          "text": [
            "Train MAE:  3.3518 , Train Loss:  21.1424\n",
            "Val MAE:  3.9189 , Val Loss:  30.1117\n"
          ],
          "name": "stdout"
        }
      ]
    },
    {
      "cell_type": "code",
      "metadata": {
        "id": "yQ74GKTByWsT",
        "colab_type": "code",
        "colab": {}
      },
      "source": [
        "keras_callbacks = [\n",
        "    ModelCheckpoint('/tmp/keras_checkpoints/model.{epoch:02d}-{val_loss:.2f}.hdf5', monitor='val_loss', save_best_only=True, verbose=2),\n",
        "    ModelCheckpoint('/tmp/keras_checkpoints/model.{epoch:02d}.hdf5', monitor='val_loss', save_best_only=True, verbose=0),\n",
        "    TensorBoard(log_dir='./model_3', histogram_freq=0, write_graph=True, write_images=True, embeddings_freq=0, embeddings_layer_names=None, embeddings_metadata=None),\n",
        "    EarlyStopping(monitor='val_mean_absolute_error', patience=20, verbose=0)\n",
        "]"
      ],
      "execution_count": 0,
      "outputs": []
    },
    {
      "cell_type": "code",
      "metadata": {
        "id": "t6eygZ2Nya88",
        "colab_type": "code",
        "colab": {}
      },
      "source": [
        "def plot_hist(h, xsize=6, ysize=10):\n",
        "    # Prepare plotting\n",
        "    fig_size = plt.rcParams[\"figure.figsize\"]\n",
        "    plt.rcParams[\"figure.figsize\"] = [xsize, ysize]\n",
        "    fig, axes = plt.subplots(nrows=4, ncols=4, sharex=True)\n",
        "\n",
        "    # summarize history for MAE\n",
        "    plt.subplot(211)\n",
        "    plt.plot(h['mean_absolute_error'])\n",
        "    plt.plot(h['val_mean_absolute_error'])\n",
        "    plt.title('Training vs Validation MAE')\n",
        "    plt.ylabel('MAE')\n",
        "    plt.xlabel('Epoch')\n",
        "    plt.legend(['Train', 'Validation'], loc='upper left')\n",
        "\n",
        "    # summarize history for loss\n",
        "    plt.subplot(212)\n",
        "    plt.plot(h['loss'])\n",
        "    plt.plot(h['val_loss'])\n",
        "    plt.title('Training vs Validation Loss')\n",
        "    plt.ylabel('Loss')\n",
        "    plt.xlabel('Epoch')\n",
        "    plt.legend(['Train', 'Validation'], loc='upper left')\n",
        "\n",
        "    # Plot it all in IPython (non-interactive)\n",
        "    plt.draw()\n",
        "    plt.show()\n",
        "\n",
        "    return"
      ],
      "execution_count": 0,
      "outputs": []
    },
    {
      "cell_type": "code",
      "metadata": {
        "id": "6BiX2gho_OW2",
        "colab_type": "code",
        "outputId": "a986dfca-31a9-4dcd-ade5-e209638db7c7",
        "colab": {
          "base_uri": "https://localhost:8080/",
          "height": 730
        }
      },
      "source": [
        "plot_hist(history.history, xsize=8, ysize=12)\n"
      ],
      "execution_count": 0,
      "outputs": [
        {
          "output_type": "display_data",
          "data": {
            "image/png": "[encoded data removed]",
            "text/plain": [
              "<Figure size 576x864 with 2 Axes>"
            ]
          },
          "metadata": {
            "tags": []
          }
        }
      ]
    }
  ]
}