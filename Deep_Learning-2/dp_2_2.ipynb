{
  "nbformat": 4,
  "nbformat_minor": 0,
  "metadata": {
    "colab": {
      "name": "dp-2_2.ipynb",
      "version": "0.3.2",
      "provenance": [],
      "include_colab_link": true
    },
    "kernelspec": {
      "name": "python3",
      "display_name": "Python 3"
    }
  },
  "cells": [
    {
      "cell_type": "markdown",
      "metadata": {
        "id": "view-in-github",
        "colab_type": "text"
      },
      "source": [
        "<a href=\"https://colab.research.google.com/github/Dwarkamoye/Python-CS5590-490-0001/blob/master/Deep_Learning-2/dp_2_2.ipynb\" target=\"_parent\"><img src=\"https://colab.research.google.com/assets/colab-badge.svg\" alt=\"Open In Colab\"/></a>"
      ]
    },
    {
      "cell_type": "code",
      "metadata": {
        "id": "uEBASfQjrWKd",
        "colab_type": "code",
        "colab": {}
      },
      "source": [
        "from keras import Sequential\n",
        "from keras.datasets import mnist\n",
        "import numpy as np\n",
        "import matplotlib.pyplot as plt\n",
        "from keras.layers import Dense\n",
        "from keras.utils import to_categorical"
      ],
      "execution_count": 0,
      "outputs": []
    },
    {
      "cell_type": "code",
      "metadata": {
        "id": "KJaUsBgyrd3z",
        "colab_type": "code",
        "colab": {
          "base_uri": "https://localhost:8080/",
          "height": 299
        },
        "outputId": "60482d22-ec3e-4ed3-9993-36e22e0dcb48"
      },
      "source": [
        "(train_images,train_labels),(test_images, test_labels) = mnist.load_data()\n",
        "#display the first image in the training data\n",
        "plt.imshow(test_images[0,:,:],cmap='gray')\n",
        "plt.title('Ground Truth : {}'.format(test_labels[0]))\n",
        "# plt.show()"
      ],
      "execution_count": 17,
      "outputs": [
        {
          "output_type": "execute_result",
          "data": {
            "text/plain": [
              "Text(0.5, 1.0, 'Ground Truth : 7')"
            ]
          },
          "metadata": {
            "tags": []
          },
          "execution_count": 17
        },
        {
          "output_type": "display_data",
          "data": {
            "image/png": "[encoded data removed]",
            "text/plain": [
              "<Figure size 432x288 with 1 Axes>"
            ]
          },
          "metadata": {
            "tags": []
          }
        }
      ]
    },
    {
      "cell_type": "code",
      "metadata": {
        "id": "jHKACOWnrjk6",
        "colab_type": "code",
        "colab": {}
      },
      "source": [
        "#process the data\n",
        "#1. convert each image of shape 28*28 to 784 dimensional which will be fed to the network as a single feature\n",
        "dimData = np.prod(train_images.shape[1:])\n",
        "train_data = train_images.reshape(train_images.shape[0],dimData)\n",
        "test_data = test_images.reshape(test_images.shape[0],dimData)"
      ],
      "execution_count": 0,
      "outputs": []
    },
    {
      "cell_type": "code",
      "metadata": {
        "id": "nDYxrjA7r1Cn",
        "colab_type": "code",
        "colab": {}
      },
      "source": [
        "#convert data to float and scale values between 0 and 1\n",
        "train_data = train_data.astype('float')\n",
        "test_data = test_data.astype('float')"
      ],
      "execution_count": 0,
      "outputs": []
    },
    {
      "cell_type": "code",
      "metadata": {
        "id": "60LgcYLBr382",
        "colab_type": "code",
        "colab": {}
      },
      "source": [
        "#scale data\n",
        "train_data /=255.0\n",
        "test_data /=255.0"
      ],
      "execution_count": 0,
      "outputs": []
    },
    {
      "cell_type": "code",
      "metadata": {
        "id": "Vq2-bVg8r7_3",
        "colab_type": "code",
        "colab": {}
      },
      "source": [
        "#change the labels frominteger to one-hot encoding\n",
        "train_labels_one_hot = to_categorical(train_labels)\n",
        "test_labels_one_hot = to_categorical(test_labels)"
      ],
      "execution_count": 0,
      "outputs": []
    },
    {
      "cell_type": "code",
      "metadata": {
        "id": "O5Iu2Mhgr_M6",
        "colab_type": "code",
        "colab": {}
      },
      "source": [
        "#creating network\n",
        "model = Sequential()\n",
        "\n",
        "\n",
        "model.add(Dense(512, activation='relu', input_shape=(dimData,)))\n",
        "model.add(Dense(512, activation='relu'))\n",
        "model.add(Dense(10, activation='softmax'))\n"
      ],
      "execution_count": 0,
      "outputs": []
    },
    {
      "cell_type": "code",
      "metadata": {
        "id": "uJnhvdcDsEdv",
        "colab_type": "code",
        "colab": {
          "base_uri": "https://localhost:8080/",
          "height": 1000
        },
        "outputId": "c6f4e28e-ddcb-45dc-cf53-519135ba788e"
      },
      "source": [
        "N = 20\n",
        "model.compile(optimizer='rmsprop', loss='categorical_crossentropy', metrics=['accuracy'])\n",
        "history = model.fit(train_data, train_labels_one_hot, batch_size=256, epochs=N, verbose=1,\n",
        "                   validation_data=(test_data, test_labels_one_hot))\n",
        "\n",
        "[test_loss, test_acc] = model.evaluate(test_data, test_labels_one_hot)\n",
        "print(\"Evaluation result on Test Data : Loss = {}, accuracy = {}\".format(test_loss, test_acc))\n",
        "\n",
        "value = model.predict_classes(test_data[[0],:])\n",
        "\n",
        "print(value)\n",
        "\n",
        "plt.style.use(\"ggplot\")\n",
        "plt.figure()\n",
        "plt.plot(np.arange(0, N), history.history[\"loss\"], label=\"train_loss\")\n",
        "plt.plot(np.arange(0, N), history.history[\"val_loss\"], label=\"test_loss\")\n",
        "plt.plot(np.arange(0, N), history.history[\"acc\"], label=\"train_acc\")\n",
        "plt.plot(np.arange(0, N), history.history[\"val_acc\"], label=\"test_acc\")\n",
        "plt.title(\"Training Loss and Accuracy on Dataset\")\n",
        "plt.xlabel(\"Epoch #\")\n",
        "plt.ylabel(\"Loss/Accuracy\")\n",
        "plt.legend(loc=\"lower left\")\n",
        "plt.show()"
      ],
      "execution_count": 26,
      "outputs": [
        {
          "output_type": "stream",
          "text": [
            "Train on 60000 samples, validate on 10000 samples\n",
            "Epoch 1/20\n",
            "60000/60000 [==============================] - 6s 106us/step - loss: 0.2797 - acc: 0.9131 - val_loss: 0.1216 - val_acc: 0.9612\n",
            "Epoch 2/20\n",
            "60000/60000 [==============================] - 6s 108us/step - loss: 0.0931 - acc: 0.9719 - val_loss: 0.1325 - val_acc: 0.9597\n",
            "Epoch 3/20\n",
            "60000/60000 [==============================] - 6s 107us/step - loss: 0.0581 - acc: 0.9823 - val_loss: 0.0982 - val_acc: 0.9689\n",
            "Epoch 4/20\n",
            "60000/60000 [==============================] - 7s 111us/step - loss: 0.0395 - acc: 0.9874 - val_loss: 0.0732 - val_acc: 0.9794\n",
            "Epoch 5/20\n",
            "60000/60000 [==============================] - 7s 109us/step - loss: 0.0273 - acc: 0.9914 - val_loss: 0.0971 - val_acc: 0.9739\n",
            "Epoch 6/20\n",
            "60000/60000 [==============================] - 6s 108us/step - loss: 0.0213 - acc: 0.9930 - val_loss: 0.0944 - val_acc: 0.9749\n",
            "Epoch 7/20\n",
            "60000/60000 [==============================] - 7s 109us/step - loss: 0.0169 - acc: 0.9947 - val_loss: 0.0868 - val_acc: 0.9800\n",
            "Epoch 8/20\n",
            "60000/60000 [==============================] - 6s 107us/step - loss: 0.0135 - acc: 0.9956 - val_loss: 0.0896 - val_acc: 0.9796\n",
            "Epoch 9/20\n",
            "60000/60000 [==============================] - 6s 106us/step - loss: 0.0115 - acc: 0.9962 - val_loss: 0.0831 - val_acc: 0.9823\n",
            "Epoch 10/20\n",
            "60000/60000 [==============================] - 6s 108us/step - loss: 0.0096 - acc: 0.9969 - val_loss: 0.1428 - val_acc: 0.9722\n",
            "Epoch 11/20\n",
            "60000/60000 [==============================] - 6s 108us/step - loss: 0.0078 - acc: 0.9976 - val_loss: 0.1097 - val_acc: 0.9788\n",
            "Epoch 12/20\n",
            "60000/60000 [==============================] - 6s 108us/step - loss: 0.0070 - acc: 0.9977 - val_loss: 0.0968 - val_acc: 0.9818\n",
            "Epoch 13/20\n",
            "60000/60000 [==============================] - 7s 112us/step - loss: 0.0062 - acc: 0.9980 - val_loss: 0.1025 - val_acc: 0.9818\n",
            "Epoch 14/20\n",
            "60000/60000 [==============================] - 7s 110us/step - loss: 0.0059 - acc: 0.9980 - val_loss: 0.1153 - val_acc: 0.9806\n",
            "Epoch 15/20\n",
            "60000/60000 [==============================] - 7s 109us/step - loss: 0.0052 - acc: 0.9984 - val_loss: 0.1104 - val_acc: 0.9827\n",
            "Epoch 16/20\n",
            "60000/60000 [==============================] - 7s 109us/step - loss: 0.0047 - acc: 0.9986 - val_loss: 0.1150 - val_acc: 0.9837\n",
            "Epoch 17/20\n",
            "60000/60000 [==============================] - 6s 108us/step - loss: 0.0045 - acc: 0.9987 - val_loss: 0.1183 - val_acc: 0.9828\n",
            "Epoch 18/20\n",
            "60000/60000 [==============================] - 7s 109us/step - loss: 0.0047 - acc: 0.9987 - val_loss: 0.1279 - val_acc: 0.9820\n",
            "Epoch 19/20\n",
            "60000/60000 [==============================] - 6s 108us/step - loss: 0.0044 - acc: 0.9987 - val_loss: 0.1372 - val_acc: 0.9817\n",
            "Epoch 20/20\n",
            "60000/60000 [==============================] - 7s 109us/step - loss: 0.0044 - acc: 0.9987 - val_loss: 0.1351 - val_acc: 0.9808\n",
            "10000/10000 [==============================] - 1s 70us/step\n",
            "Evaluation result on Test Data : Loss = 0.13509999395276487, accuracy = 0.9808\n",
            "[7]\n"
          ],
          "name": "stdout"
        },
        {
          "output_type": "display_data",
          "data": {
            "image/png": "[encoded data removed]",
            "text/plain": [
              "<Figure size 432x288 with 1 Axes>"
            ]
          },
          "metadata": {
            "tags": []
          }
        }
      ]
    },
    {
      "cell_type": "code",
      "metadata": {
        "id": "CJsE8Tc2tzB_",
        "colab_type": "code",
        "colab": {}
      },
      "source": [
        ""
      ],
      "execution_count": 0,
      "outputs": []
    }
  ]
}