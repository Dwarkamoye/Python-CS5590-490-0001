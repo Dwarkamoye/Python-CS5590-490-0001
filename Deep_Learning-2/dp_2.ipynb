{
  "nbformat": 4,
  "nbformat_minor": 0,
  "metadata": {
    "colab": {
      "name": "dp-2.ipynb",
      "version": "0.3.2",
      "provenance": [],
      "include_colab_link": true
    },
    "kernelspec": {
      "name": "python3",
      "display_name": "Python 3"
    }
  },
  "cells": [
    {
      "cell_type": "markdown",
      "metadata": {
        "id": "view-in-github",
        "colab_type": "text"
      },
      "source": [
        "<a href=\"https://colab.research.google.com/github/Dwarkamoye/Python-CS5590-490-0001/blob/master/Deep_Learning-2/dp_2.ipynb\" target=\"_parent\"><img src=\"https://colab.research.google.com/assets/colab-badge.svg\" alt=\"Open In Colab\"/></a>"
      ]
    },
    {
      "cell_type": "code",
      "metadata": {
        "id": "nlOpCSZRivmJ",
        "colab_type": "code",
        "colab": {}
      },
      "source": [
        "from keras import Sequential\n",
        "from keras.datasets import mnist\n",
        "import numpy as np\n",
        "import matplotlib.pyplot as plt\n",
        "from keras.layers import Dense\n",
        "from keras.utils import to_categorical"
      ],
      "execution_count": 0,
      "outputs": []
    },
    {
      "cell_type": "code",
      "metadata": {
        "id": "WPQYSOa1i05N",
        "colab_type": "code",
        "colab": {
          "base_uri": "https://localhost:8080/",
          "height": 299
        },
        "outputId": "83925b35-51a5-43a9-a42c-c6505df7323b"
      },
      "source": [
        "(train_images,train_labels),(test_images, test_labels) = mnist.load_data()\n",
        "#display the first image in the training data\n",
        "plt.imshow(train_images[0,:,:],cmap='gray')\n",
        "plt.title('Ground Truth : {}'.format(train_labels[0]))\n",
        "# plt.show()"
      ],
      "execution_count": 40,
      "outputs": [
        {
          "output_type": "execute_result",
          "data": {
            "text/plain": [
              "Text(0.5, 1.0, 'Ground Truth : 5')"
            ]
          },
          "metadata": {
            "tags": []
          },
          "execution_count": 40
        },
        {
          "output_type": "display_data",
          "data": {
            "image/png": "[encoded data removed]",
            "text/plain": [
              "<Figure size 432x288 with 1 Axes>"
            ]
          },
          "metadata": {
            "tags": []
          }
        }
      ]
    },
    {
      "cell_type": "code",
      "metadata": {
        "id": "G69BrA_XjAJr",
        "colab_type": "code",
        "colab": {}
      },
      "source": [
        "#process the data\n",
        "#1. convert each image of shape 28*28 to 784 dimensional which will be fed to the network as a single feature\n",
        "dimData = np.prod(train_images.shape[1:])\n",
        "train_data = train_images.reshape(train_images.shape[0],dimData)\n",
        "test_data = test_images.reshape(test_images.shape[0],dimData)"
      ],
      "execution_count": 0,
      "outputs": []
    },
    {
      "cell_type": "code",
      "metadata": {
        "id": "pHe5XWY5jGWd",
        "colab_type": "code",
        "colab": {}
      },
      "source": [
        "#convert data to float and scale values between 0 and 1\n",
        "train_data = train_data.astype('float')\n",
        "test_data = test_data.astype('float')\n"
      ],
      "execution_count": 0,
      "outputs": []
    },
    {
      "cell_type": "code",
      "metadata": {
        "id": "6dEDS73TpxBb",
        "colab_type": "code",
        "colab": {}
      },
      "source": [
        "#scale data\n",
        "train_data /=255.0\n",
        "test_data /=255.0\n"
      ],
      "execution_count": 0,
      "outputs": []
    },
    {
      "cell_type": "code",
      "metadata": {
        "id": "5ZuCr9nSpyts",
        "colab_type": "code",
        "colab": {}
      },
      "source": [
        "#change the labels frominteger to one-hot encoding\n",
        "train_labels_one_hot = to_categorical(train_labels)\n",
        "test_labels_one_hot = to_categorical(test_labels)"
      ],
      "execution_count": 0,
      "outputs": []
    },
    {
      "cell_type": "code",
      "metadata": {
        "id": "N7O52v98jJWb",
        "colab_type": "code",
        "colab": {}
      },
      "source": [
        "#creating network\n",
        "model = Sequential()\n",
        "\n",
        "\n",
        "model.add(Dense(512, activation='relu', input_shape=(dimData,)))\n",
        "model.add(Dense(512, activation='relu'))\n",
        "model.add(Dense(10, activation='softmax'))\n",
        "\n",
        "\n"
      ],
      "execution_count": 0,
      "outputs": []
    },
    {
      "cell_type": "code",
      "metadata": {
        "id": "Y5JiElQPog9v",
        "colab_type": "code",
        "colab": {}
      },
      "source": [
        "#model.add(Dense(512, activation='tanh', input_shape=(dimData,)))\n",
        "#model.add(Dense(512, activation='tanh'))\n",
        "#model.add(Dense(256, activation='sigmoid'))\n",
        "#model.add(Dense(64, activation='sigmoid'))\n",
        "#model.add(Dense(10, activation='sigmoid'))"
      ],
      "execution_count": 0,
      "outputs": []
    },
    {
      "cell_type": "code",
      "metadata": {
        "id": "6Wy9TclCjM1g",
        "colab_type": "code",
        "colab": {
          "base_uri": "https://localhost:8080/",
          "height": 1000
        },
        "outputId": "83b68b52-a1d8-4863-8df4-6d749f2d5cb2"
      },
      "source": [
        "N = 20\n",
        "model.compile(optimizer='rmsprop', loss='categorical_crossentropy', metrics=['accuracy'])\n",
        "history = model.fit(train_data, train_labels_one_hot, batch_size=256, epochs=N, verbose=1,\n",
        "                   validation_data=(test_data, test_labels_one_hot))\n",
        "\n",
        "[test_loss, test_acc] = model.evaluate(test_data, test_labels_one_hot)\n",
        "print(\"Evaluation result on Test Data : Loss = {}, accuracy = {}\".format(test_loss, test_acc))\n",
        "\n",
        "\n",
        "plt.style.use(\"ggplot\")\n",
        "plt.figure()\n",
        "plt.plot(np.arange(0, N), history.history[\"loss\"], label=\"train_loss\")\n",
        "plt.plot(np.arange(0, N), history.history[\"val_loss\"], label=\"test_loss\")\n",
        "plt.plot(np.arange(0, N), history.history[\"acc\"], label=\"train_acc\")\n",
        "plt.plot(np.arange(0, N), history.history[\"val_acc\"], label=\"test_acc\")\n",
        "plt.title(\"Training Loss and Accuracy on Dataset\")\n",
        "plt.xlabel(\"Epoch #\")\n",
        "plt.ylabel(\"Loss/Accuracy\")\n",
        "plt.legend(loc=\"lower left\")\n",
        "plt.show()"
      ],
      "execution_count": 52,
      "outputs": [
        {
          "output_type": "stream",
          "text": [
            "Train on 60000 samples, validate on 10000 samples\n",
            "Epoch 1/20\n",
            "60000/60000 [==============================] - 8s 126us/step - loss: 0.2747 - acc: 0.9147 - val_loss: 0.1097 - val_acc: 0.9645\n",
            "Epoch 2/20\n",
            "60000/60000 [==============================] - 7s 120us/step - loss: 0.0920 - acc: 0.9710 - val_loss: 0.0823 - val_acc: 0.9741\n",
            "Epoch 3/20\n",
            "60000/60000 [==============================] - 7s 118us/step - loss: 0.0584 - acc: 0.9820 - val_loss: 0.0701 - val_acc: 0.9779\n",
            "Epoch 4/20\n",
            "60000/60000 [==============================] - 7s 121us/step - loss: 0.0389 - acc: 0.9871 - val_loss: 0.0583 - val_acc: 0.9823\n",
            "Epoch 5/20\n",
            "60000/60000 [==============================] - 7s 119us/step - loss: 0.0291 - acc: 0.9905 - val_loss: 0.0675 - val_acc: 0.9808\n",
            "Epoch 6/20\n",
            "60000/60000 [==============================] - 7s 122us/step - loss: 0.0212 - acc: 0.9934 - val_loss: 0.0744 - val_acc: 0.9808\n",
            "Epoch 7/20\n",
            "60000/60000 [==============================] - 7s 121us/step - loss: 0.0167 - acc: 0.9946 - val_loss: 0.0825 - val_acc: 0.9808\n",
            "Epoch 8/20\n",
            "60000/60000 [==============================] - 7s 120us/step - loss: 0.0142 - acc: 0.9956 - val_loss: 0.0811 - val_acc: 0.9829\n",
            "Epoch 9/20\n",
            "60000/60000 [==============================] - 7s 120us/step - loss: 0.0116 - acc: 0.9967 - val_loss: 0.0745 - val_acc: 0.9825\n",
            "Epoch 10/20\n",
            "60000/60000 [==============================] - 7s 121us/step - loss: 0.0098 - acc: 0.9967 - val_loss: 0.0931 - val_acc: 0.9827\n",
            "Epoch 11/20\n",
            "60000/60000 [==============================] - 7s 120us/step - loss: 0.0088 - acc: 0.9974 - val_loss: 0.0840 - val_acc: 0.9837\n",
            "Epoch 12/20\n",
            "60000/60000 [==============================] - 7s 121us/step - loss: 0.0084 - acc: 0.9972 - val_loss: 0.0883 - val_acc: 0.9829\n",
            "Epoch 13/20\n",
            "60000/60000 [==============================] - 7s 121us/step - loss: 0.0058 - acc: 0.9982 - val_loss: 0.1073 - val_acc: 0.9818\n",
            "Epoch 14/20\n",
            "60000/60000 [==============================] - 7s 122us/step - loss: 0.0060 - acc: 0.9982 - val_loss: 0.1046 - val_acc: 0.9812\n",
            "Epoch 15/20\n",
            "60000/60000 [==============================] - 7s 122us/step - loss: 0.0062 - acc: 0.9983 - val_loss: 0.1027 - val_acc: 0.9833\n",
            "Epoch 16/20\n",
            "60000/60000 [==============================] - 7s 119us/step - loss: 0.0061 - acc: 0.9980 - val_loss: 0.1062 - val_acc: 0.9841\n",
            "Epoch 17/20\n",
            "60000/60000 [==============================] - 7s 119us/step - loss: 0.0063 - acc: 0.9982 - val_loss: 0.1120 - val_acc: 0.9823\n",
            "Epoch 18/20\n",
            "60000/60000 [==============================] - 7s 118us/step - loss: 0.0045 - acc: 0.9987 - val_loss: 0.1093 - val_acc: 0.9840\n",
            "Epoch 19/20\n",
            "60000/60000 [==============================] - 7s 120us/step - loss: 0.0041 - acc: 0.9989 - val_loss: 0.1112 - val_acc: 0.9835\n",
            "Epoch 20/20\n",
            "60000/60000 [==============================] - 7s 120us/step - loss: 0.0043 - acc: 0.9988 - val_loss: 0.1112 - val_acc: 0.9844\n",
            "10000/10000 [==============================] - 1s 74us/step\n",
            "Evaluation result on Test Data : Loss = 0.11116624982240794, accuracy = 0.9844\n"
          ],
          "name": "stdout"
        },
        {
          "output_type": "display_data",
          "data": {
            "image/png": "[encoded data removed]",
            "text/plain": [
              "<Figure size 432x288 with 1 Axes>"
            ]
          },
          "metadata": {
            "tags": []
          }
        }
      ]
    },
    {
      "cell_type": "code",
      "metadata": {
        "id": "eDOLiF6yvyR3",
        "colab_type": "code",
        "colab": {}
      },
      "source": [
        ""
      ],
      "execution_count": 0,
      "outputs": []
    }
  ]
}