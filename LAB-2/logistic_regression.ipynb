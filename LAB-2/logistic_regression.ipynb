{
  "nbformat": 4,
  "nbformat_minor": 0,
  "metadata": {
    "colab": {
      "name": "logistic_regression.ipynb",
      "version": "0.3.2",
      "provenance": [],
      "include_colab_link": true
    },
    "kernelspec": {
      "name": "python3",
      "display_name": "Python 3"
    }
  },
  "cells": [
    {
      "cell_type": "markdown",
      "metadata": {
        "id": "view-in-github",
        "colab_type": "text"
      },
      "source": [
        "<a href=\"https://colab.research.google.com/github/Dwarkamoye/Python-CS5590-490-0001/blob/master/LAB-2/logistic_regression.ipynb\" target=\"_parent\"><img src=\"https://colab.research.google.com/assets/colab-badge.svg\" alt=\"Open In Colab\"/></a>"
      ]
    },
    {
      "cell_type": "code",
      "metadata": {
        "id": "i_o2hQ-76_9S",
        "colab_type": "code",
        "outputId": "ef22682a-5af2-4882-d992-5a56a4060bd2",
        "colab": {
          "base_uri": "https://localhost:8080/",
          "height": 34
        }
      },
      "source": [
        "from tensorboardcolab import *\n",
        "from __future__ import print_function\n",
        "import os\n",
        "from datetime import time\n",
        "\n",
        "import numpy as np\n",
        "import pandas as pd\n",
        "import matplotlib.pyplot as plt\n",
        "import keras\n",
        "from keras import metrics\n",
        "# from keras.regularizers import l1l2\n",
        "# from keras import regularizers\n",
        "from keras.models import Sequential\n",
        "from keras.layers import Dense, Dropout, Flatten, Activation\n",
        "from keras.layers import Conv2D, MaxPooling2D\n",
        "from keras.optimizers import Adam, RMSprop\n",
        "from keras.callbacks import TensorBoard, EarlyStopping, ModelCheckpoint\n",
        "from keras.utils import plot_model\n",
        "from keras.models import load_model\n",
        "from sklearn.model_selection import train_test_split"
      ],
      "execution_count": 0,
      "outputs": [
        {
          "output_type": "stream",
          "text": [
            "Using TensorFlow backend.\n"
          ],
          "name": "stderr"
        }
      ]
    },
    {
      "cell_type": "code",
      "metadata": {
        "id": "I9JBB6Zc8Jj6",
        "colab_type": "code",
        "outputId": "38bbd537-688e-45a5-b2bd-c7279e19c402",
        "colab": {
          "base_uri": "https://localhost:8080/",
          "height": 69
        }
      },
      "source": [
        "tbc=TensorBoardColab()"
      ],
      "execution_count": 0,
      "outputs": [
        {
          "output_type": "stream",
          "text": [
            "Wait for 8 seconds...\n",
            "TensorBoard link:\n",
            "https://a29f895a.ngrok.io\n"
          ],
          "name": "stdout"
        }
      ]
    },
    {
      "cell_type": "code",
      "metadata": {
        "id": "x3PIRaEE7ELr",
        "colab_type": "code",
        "outputId": "dce4e231-2b2a-4163-9648-a25fdc63dc05",
        "colab": {
          "base_uri": "https://localhost:8080/",
          "height": 208
        }
      },
      "source": [
        "\n",
        "df = pd.read_csv('heart.csv')\n",
        "kc_data = pd.DataFrame(df, columns=[\"age\",\"sex\",\"cp\",\"trestbps\",\"chol\",\"fbs\",\"restecg\",\"thalach\",\"exang\",\"oldpeak\",\"slope\",\"ca\",\"thal\",\"target\"])\n",
        "label_col = 'Class'\n",
        "print(kc_data.describe())"
      ],
      "execution_count": 0,
      "outputs": [
        {
          "output_type": "stream",
          "text": [
            "              age         sex          cp  ...          ca        thal      target\n",
            "count  303.000000  303.000000  303.000000  ...  303.000000  303.000000  303.000000\n",
            "mean    54.366337    0.683168    0.966997  ...    0.729373    2.313531    0.544554\n",
            "std      9.082101    0.466011    1.032052  ...    1.022606    0.612277    0.498835\n",
            "min     29.000000    0.000000    0.000000  ...    0.000000    0.000000    0.000000\n",
            "25%     47.500000    0.000000    0.000000  ...    0.000000    2.000000    0.000000\n",
            "50%     55.000000    1.000000    1.000000  ...    0.000000    2.000000    1.000000\n",
            "75%     61.000000    1.000000    2.000000  ...    1.000000    3.000000    1.000000\n",
            "max     77.000000    1.000000    3.000000  ...    4.000000    3.000000    1.000000\n",
            "\n",
            "[8 rows x 14 columns]\n"
          ],
          "name": "stdout"
        }
      ]
    },
    {
      "cell_type": "code",
      "metadata": {
        "id": "dAblx92K7GqS",
        "colab_type": "code",
        "colab": {}
      },
      "source": [
        "kc_x_train, kc_x_valid, kc_y_train, kc_y_valid = train_test_split(kc_data.iloc[:,0:13], kc_data.iloc[:,13],\n",
        "                                                    test_size=0.3, random_state=87)"
      ],
      "execution_count": 0,
      "outputs": []
    },
    {
      "cell_type": "code",
      "metadata": {
        "id": "qyEVQRuG7Iea",
        "colab_type": "code",
        "colab": {}
      },
      "source": [
        "np.random.seed(155)\n",
        "def norm_stats(df1, df2):\n",
        "    dfs = df1.append(df2)\n",
        "    minimum = np.min(dfs)\n",
        "    maximum = np.max(dfs)\n",
        "    mu = np.mean(dfs)\n",
        "    sigma = np.std(dfs)\n",
        "    return (minimum, maximum, mu, sigma)\n",
        "\n",
        "def z_score(col, stats):\n",
        "    m, M, mu, s = stats\n",
        "    df2 = pd.DataFrame()\n",
        "    for c in col.columns:\n",
        "        df2[c] = (col[c]-mu[c])/s[c]\n",
        "    return df2"
      ],
      "execution_count": 0,
      "outputs": []
    },
    {
      "cell_type": "code",
      "metadata": {
        "id": "ZXspHUnp7SnT",
        "colab_type": "code",
        "outputId": "0ae5bccc-f929-4b3b-c342-289e50fd9dcf",
        "colab": {
          "base_uri": "https://localhost:8080/",
          "height": 86
        }
      },
      "source": [
        "stats = norm_stats(kc_x_train, kc_x_valid)\n",
        "arr_x_train = np.array(z_score(kc_x_train, stats))\n",
        "arr_y_train = np.array(kc_y_train)\n",
        "arr_x_valid = np.array(z_score(kc_x_valid, stats))\n",
        "arr_y_valid = np.array(kc_y_valid)\n",
        "print('Training shape:', arr_x_train.shape)\n",
        "print('ddd',arr_y_train.shape)\n",
        "print('Training samples: ', arr_x_train.shape[0])\n",
        "print('Validation samples: ', arr_x_valid.shape[0])"
      ],
      "execution_count": 0,
      "outputs": [
        {
          "output_type": "stream",
          "text": [
            "Training shape: (212, 13)\n",
            "ddd (212,)\n",
            "Training samples:  212\n",
            "Validation samples:  91\n"
          ],
          "name": "stdout"
        }
      ]
    },
    {
      "cell_type": "code",
      "metadata": {
        "id": "CzI9BjP67U87",
        "colab_type": "code",
        "colab": {}
      },
      "source": [
        "def basic_model_1(x_size, y_size):\n",
        "    t_model = Sequential()\n",
        "    t_model.add(Dense(100, activation='sigmoid', input_shape=(x_size,)))\n",
        "    # t_model.compile(optimizer='rmsprop', loss='binary_crossentropy')\n",
        "    # t_model.add(Dense(100, activation=\"tanh\", input_shape=(x_size,)))\n",
        "    t_model.add(Dense(50, activation=\"sigmoid\"))\n",
        "    t_model.add(Dense(y_size))\n",
        "    t_model.compile(loss='binary_crossentropy',\n",
        "        optimizer='rmsprop',\n",
        "        metrics=[metrics.mae])\n",
        "    return(t_model)"
      ],
      "execution_count": 0,
      "outputs": []
    },
    {
      "cell_type": "code",
      "metadata": {
        "id": "fTpwsuRR7Wvr",
        "colab_type": "code",
        "colab": {}
      },
      "source": [
        "#basic_model_2 is different from basic_model_1 but doing the same task with different structure\n",
        "def basic_model_2(x_size, y_size):\n",
        "\n",
        "\n",
        "    # reg = l1l2(l1=0.01, l2=0.01)\n",
        "    t_model = Sequential()\n",
        "    t_model.add(Dense(100, activation='sigmoid', input_shape=(x_size,)))\n",
        "    t_model.add(Dropout(0.1))\n",
        "    t_model.add(Dense(50, activation='sigmoid'))\n",
        "    t_model.add(Dense(20, activation='sigmoid'))\n",
        "    t_model.add(Dense(y_size))\n",
        "    keras.optimizers.Adam(lr=0.001, beta_1=0.9, beta_2=0.999, epsilon=None, decay=0.0, amsgrad=False)\n",
        "    optimizers = ['rmsprop', 'adam']\n",
        "    t_model.compile(loss='binary_crossentropy',\n",
        "        optimizer=Adam(),\n",
        "        metrics=[metrics.mae])\n",
        "    return(t_model)"
      ],
      "execution_count": 0,
      "outputs": []
    },
    {
      "cell_type": "code",
      "metadata": {
        "id": "zTa434EO7ZuK",
        "colab_type": "code",
        "outputId": "af5f6167-076a-4d9e-a636-d53edae909a2",
        "colab": {
          "base_uri": "https://localhost:8080/",
          "height": 1000
        }
      },
      "source": [
        "model = basic_model_2(arr_x_train.shape[1], 1)\n",
        "\n",
        "model.summary()\n",
        "epochs = 20\n",
        "batch_size =32\n",
        "\n",
        "history = model.fit(arr_x_train, arr_y_train,\n",
        "    batch_size=batch_size,\n",
        "    epochs=epochs,\n",
        "    shuffle=True,\n",
        "    verbose=2, # Change it to 2, if wished to observe execution\n",
        "    validation_data=(arr_x_valid, arr_y_valid),callbacks=[TensorBoardColabCallback(tbc)])\n"
      ],
      "execution_count": 0,
      "outputs": [
        {
          "output_type": "stream",
          "text": [
            "WARNING: Logging before flag parsing goes to stderr.\n",
            "W0722 15:33:59.102509 139783961274240 deprecation_wrapper.py:119] From /usr/local/lib/python3.6/dist-packages/keras/backend/tensorflow_backend.py:74: The name tf.get_default_graph is deprecated. Please use tf.compat.v1.get_default_graph instead.\n",
            "\n",
            "W0722 15:33:59.124557 139783961274240 deprecation_wrapper.py:119] From /usr/local/lib/python3.6/dist-packages/keras/backend/tensorflow_backend.py:517: The name tf.placeholder is deprecated. Please use tf.compat.v1.placeholder instead.\n",
            "\n",
            "W0722 15:33:59.127786 139783961274240 deprecation_wrapper.py:119] From /usr/local/lib/python3.6/dist-packages/keras/backend/tensorflow_backend.py:4138: The name tf.random_uniform is deprecated. Please use tf.random.uniform instead.\n",
            "\n",
            "W0722 15:33:59.147174 139783961274240 deprecation_wrapper.py:119] From /usr/local/lib/python3.6/dist-packages/keras/backend/tensorflow_backend.py:133: The name tf.placeholder_with_default is deprecated. Please use tf.compat.v1.placeholder_with_default instead.\n",
            "\n",
            "W0722 15:33:59.158296 139783961274240 deprecation.py:506] From /usr/local/lib/python3.6/dist-packages/keras/backend/tensorflow_backend.py:3445: calling dropout (from tensorflow.python.ops.nn_ops) with keep_prob is deprecated and will be removed in a future version.\n",
            "Instructions for updating:\n",
            "Please use `rate` instead of `keep_prob`. Rate should be set to `rate = 1 - keep_prob`.\n",
            "W0722 15:33:59.247201 139783961274240 deprecation_wrapper.py:119] From /usr/local/lib/python3.6/dist-packages/keras/optimizers.py:790: The name tf.train.Optimizer is deprecated. Please use tf.compat.v1.train.Optimizer instead.\n",
            "\n",
            "W0722 15:33:59.256099 139783961274240 deprecation_wrapper.py:119] From /usr/local/lib/python3.6/dist-packages/keras/backend/tensorflow_backend.py:3376: The name tf.log is deprecated. Please use tf.math.log instead.\n",
            "\n",
            "W0722 15:33:59.263590 139783961274240 deprecation.py:323] From /usr/local/lib/python3.6/dist-packages/tensorflow/python/ops/nn_impl.py:180: add_dispatch_support.<locals>.wrapper (from tensorflow.python.ops.array_ops) is deprecated and will be removed in a future version.\n",
            "Instructions for updating:\n",
            "Use tf.where in 2.0, which has the same broadcast rule as np.where\n"
          ],
          "name": "stderr"
        },
        {
          "output_type": "stream",
          "text": [
            "_________________________________________________________________\n",
            "Layer (type)                 Output Shape              Param #   \n",
            "=================================================================\n",
            "dense_1 (Dense)              (None, 100)               1400      \n",
            "_________________________________________________________________\n",
            "dropout_1 (Dropout)          (None, 100)               0         \n",
            "_________________________________________________________________\n",
            "dense_2 (Dense)              (None, 50)                5050      \n",
            "_________________________________________________________________\n",
            "dense_3 (Dense)              (None, 20)                1020      \n",
            "_________________________________________________________________\n",
            "dense_4 (Dense)              (None, 1)                 21        \n",
            "=================================================================\n",
            "Total params: 7,491\n",
            "Trainable params: 7,491\n",
            "Non-trainable params: 0\n",
            "_________________________________________________________________\n"
          ],
          "name": "stdout"
        },
        {
          "output_type": "stream",
          "text": [
            "W0722 15:34:00.446781 139783961274240 deprecation_wrapper.py:119] From /usr/local/lib/python3.6/dist-packages/tensorboardcolab/core.py:49: The name tf.summary.FileWriter is deprecated. Please use tf.compat.v1.summary.FileWriter instead.\n",
            "\n",
            "W0722 15:34:00.597933 139783961274240 deprecation_wrapper.py:119] From /usr/local/lib/python3.6/dist-packages/keras/callbacks.py:850: The name tf.summary.merge_all is deprecated. Please use tf.compat.v1.summary.merge_all instead.\n",
            "\n"
          ],
          "name": "stderr"
        },
        {
          "output_type": "stream",
          "text": [
            "Train on 212 samples, validate on 91 samples\n",
            "Epoch 1/20\n",
            " - 0s - loss: 8.4392 - mean_absolute_error: 1.1443 - val_loss: 9.5646 - val_mean_absolute_error: 1.2135\n",
            "Epoch 2/20\n",
            " - 0s - loss: 8.4392 - mean_absolute_error: 1.1442 - val_loss: 9.5646 - val_mean_absolute_error: 1.2135\n",
            "Epoch 3/20\n",
            " - 0s - loss: 8.4392 - mean_absolute_error: 1.1418 - val_loss: 9.5646 - val_mean_absolute_error: 1.2135\n",
            "Epoch 4/20\n",
            " - 0s - loss: 8.4392 - mean_absolute_error: 1.1412 - val_loss: 9.5646 - val_mean_absolute_error: 1.2135\n",
            "Epoch 5/20\n",
            " - 0s - loss: 8.4392 - mean_absolute_error: 1.1425 - val_loss: 9.5646 - val_mean_absolute_error: 1.2135\n",
            "Epoch 6/20\n",
            " - 0s - loss: 8.4392 - mean_absolute_error: 1.1440 - val_loss: 9.5646 - val_mean_absolute_error: 1.2135\n",
            "Epoch 7/20\n",
            " - 0s - loss: 8.4392 - mean_absolute_error: 1.1426 - val_loss: 9.5646 - val_mean_absolute_error: 1.2135\n",
            "Epoch 8/20\n",
            " - 0s - loss: 8.4392 - mean_absolute_error: 1.1427 - val_loss: 9.5646 - val_mean_absolute_error: 1.2135\n",
            "Epoch 9/20\n",
            " - 0s - loss: 8.4392 - mean_absolute_error: 1.1445 - val_loss: 9.5646 - val_mean_absolute_error: 1.2135\n",
            "Epoch 10/20\n",
            " - 0s - loss: 8.4392 - mean_absolute_error: 1.1419 - val_loss: 9.5646 - val_mean_absolute_error: 1.2135\n",
            "Epoch 11/20\n",
            " - 0s - loss: 8.4392 - mean_absolute_error: 1.1444 - val_loss: 9.5646 - val_mean_absolute_error: 1.2135\n",
            "Epoch 12/20\n",
            " - 0s - loss: 8.4392 - mean_absolute_error: 1.1440 - val_loss: 9.5646 - val_mean_absolute_error: 1.2135\n",
            "Epoch 13/20\n",
            " - 0s - loss: 8.4392 - mean_absolute_error: 1.1458 - val_loss: 9.5646 - val_mean_absolute_error: 1.2135\n",
            "Epoch 14/20\n",
            " - 0s - loss: 8.4392 - mean_absolute_error: 1.1426 - val_loss: 9.5646 - val_mean_absolute_error: 1.2135\n",
            "Epoch 15/20\n",
            " - 0s - loss: 8.4392 - mean_absolute_error: 1.1433 - val_loss: 9.5646 - val_mean_absolute_error: 1.2135\n",
            "Epoch 16/20\n",
            " - 0s - loss: 8.4392 - mean_absolute_error: 1.1451 - val_loss: 9.5646 - val_mean_absolute_error: 1.2135\n",
            "Epoch 17/20\n",
            " - 0s - loss: 8.4392 - mean_absolute_error: 1.1436 - val_loss: 9.5646 - val_mean_absolute_error: 1.2135\n",
            "Epoch 18/20\n",
            " - 0s - loss: 8.4392 - mean_absolute_error: 1.1448 - val_loss: 9.5646 - val_mean_absolute_error: 1.2135\n",
            "Epoch 19/20\n",
            " - 0s - loss: 8.4392 - mean_absolute_error: 1.1431 - val_loss: 9.5646 - val_mean_absolute_error: 1.2135\n",
            "Epoch 20/20\n",
            " - 0s - loss: 8.4392 - mean_absolute_error: 1.1413 - val_loss: 9.5646 - val_mean_absolute_error: 1.2135\n"
          ],
          "name": "stdout"
        }
      ]
    },
    {
      "cell_type": "code",
      "metadata": {
        "id": "oUPJVYMo7g8l",
        "colab_type": "code",
        "outputId": "e5894ae1-863c-4450-aebf-8dedb5af2886",
        "colab": {
          "base_uri": "https://localhost:8080/",
          "height": 52
        }
      },
      "source": [
        "train_score = model.evaluate(arr_x_train, arr_y_train, verbose=0)\n",
        "valid_score = model.evaluate(arr_x_valid, arr_y_valid, verbose=0)\n",
        "\n",
        "print('Train MAE: ', round(train_score[1], 4), ', Train Loss: ', round(train_score[0], 4))\n",
        "print('Val MAE: ', round(valid_score[1], 4), ', Val Loss: ', round(valid_score[0], 4))"
      ],
      "execution_count": 0,
      "outputs": [
        {
          "output_type": "stream",
          "text": [
            "Train MAE:  1.1437 , Train Loss:  8.4392\n",
            "Val MAE:  1.2135 , Val Loss:  9.5646\n"
          ],
          "name": "stdout"
        }
      ]
    },
    {
      "cell_type": "code",
      "metadata": {
        "id": "q3Rf_rCp7j4l",
        "colab_type": "code",
        "colab": {}
      },
      "source": [
        "keras_callbacks = [\n",
        "    ModelCheckpoint('/tmp/keras_checkpoints/model.{epoch:02d}-{val_loss:.2f}.hdf5', monitor='val_loss', save_best_only=True, verbose=2),\n",
        "    ModelCheckpoint('/tmp/keras_checkpoints/model.{epoch:02d}.hdf5', monitor='val_loss', save_best_only=True, verbose=0),\n",
        "    TensorBoard(log_dir='./model_3', histogram_freq=0, write_graph=True, write_images=True, embeddings_freq=0, embeddings_layer_names=None, embeddings_metadata=None),\n",
        "    EarlyStopping(monitor='val_mean_absolute_error', patience=20, verbose=0)\n",
        "]"
      ],
      "execution_count": 0,
      "outputs": []
    },
    {
      "cell_type": "code",
      "metadata": {
        "id": "5oNaU6_h7l1t",
        "colab_type": "code",
        "colab": {}
      },
      "source": [
        "def plot_hist(h, xsize=6, ysize=10):\n",
        "    # Prepare plotting\n",
        "    fig_size = plt.rcParams[\"figure.figsize\"]\n",
        "    plt.rcParams[\"figure.figsize\"] = [xsize, ysize]\n",
        "    fig, axes = plt.subplots(nrows=4, ncols=4, sharex=True)\n",
        "\n",
        "    # summarize history for MAE\n",
        "    plt.subplot(211)\n",
        "    plt.plot(h['mean_absolute_error'])\n",
        "    plt.plot(h['val_mean_absolute_error'])\n",
        "    plt.title('Training vs Validation MAE')\n",
        "    plt.ylabel('MAE')\n",
        "    plt.xlabel('Epoch')\n",
        "    plt.legend(['Train', 'Validation'], loc='upper left')\n",
        "\n",
        "    # summarize history for loss\n",
        "    plt.subplot(212)\n",
        "    plt.plot(h['loss'])\n",
        "    plt.plot(h['val_loss'])\n",
        "    plt.title('Training vs Validation Loss')\n",
        "    plt.ylabel('Loss')\n",
        "    plt.xlabel('Epoch')\n",
        "    plt.legend(['Train', 'Validation'], loc='upper left')\n",
        "\n",
        "    # Plot it all in IPython (non-interactive)\n",
        "    plt.draw()\n",
        "    plt.show()\n",
        "\n",
        "    return"
      ],
      "execution_count": 0,
      "outputs": []
    },
    {
      "cell_type": "code",
      "metadata": {
        "id": "Ai7JeVXV7ntd",
        "colab_type": "code",
        "outputId": "48fb88b9-c9c7-4e71-be0e-9ccda8af295b",
        "colab": {
          "base_uri": "https://localhost:8080/",
          "height": 765
        }
      },
      "source": [
        "plot_hist(history.history, xsize=8, ysize=12)\n",
        "score = model.evaluate(arr_x_valid,arr_y_valid)\n",
        "print('test accuracy',score[1])"
      ],
      "execution_count": 0,
      "outputs": [
        {
          "output_type": "display_data",
          "data": {
            "image/png": "[encoded data removed]",
            "text/plain": [
              "<Figure size 576x864 with 2 Axes>"
            ]
          },
          "metadata": {
            "tags": []
          }
        },
        {
          "output_type": "stream",
          "text": [
            "91/91 [==============================] - 0s 68us/step\n",
            "test accuracy 1.2135145926213526\n"
          ],
          "name": "stdout"
        }
      ]
    },
    {
      "cell_type": "code",
      "metadata": {
        "id": "kZgjmJSj7rTV",
        "colab_type": "code",
        "colab": {}
      },
      "source": [
        "# Create hyperparameter space\n",
        "epochs = [5, 10]\n",
        "batches = [5, 10, 100]\n",
        "optimizers = ['rmsprop', 'adam']\n",
        "\n",
        "# Create hyperparameter options\n",
        "hyperparameters = dict(optimizer=optimizers, epochs=epochs, batch_size=batches)"
      ],
      "execution_count": 0,
      "outputs": []
    }
  ]
}